{
 "cells": [
  {
   "cell_type": "markdown",
   "metadata": {},
   "source": [
    "# Seminar Software Composition - Assessing Source Code Comments Quality"
   ]
  },
  {
   "cell_type": "code",
   "execution_count": 1,
   "metadata": {},
   "outputs": [
    {
     "name": "stderr",
     "output_type": "stream",
     "text": [
      "[nltk_data] Downloading package punkt to\n",
      "[nltk_data]     C:\\Users\\Ludo\\AppData\\Roaming\\nltk_data...\n",
      "[nltk_data]   Package punkt is already up-to-date!\n"
     ]
    },
    {
     "data": {
      "text/plain": [
       "True"
      ]
     },
     "execution_count": 1,
     "metadata": {},
     "output_type": "execute_result"
    }
   ],
   "source": [
    "import pandas as pd\n",
    "from tqdm.notebook import tqdm, trange\n",
    "import nltk\n",
    "nltk.download('punkt')"
   ]
  },
  {
   "cell_type": "code",
   "execution_count": 2,
   "metadata": {},
   "outputs": [
    {
     "data": {
      "text/html": [
       "<div>\n",
       "<style scoped>\n",
       "    .dataframe tbody tr th:only-of-type {\n",
       "        vertical-align: middle;\n",
       "    }\n",
       "\n",
       "    .dataframe tbody tr th {\n",
       "        vertical-align: top;\n",
       "    }\n",
       "\n",
       "    .dataframe thead th {\n",
       "        text-align: right;\n",
       "    }\n",
       "</style>\n",
       "<table border=\"1\" class=\"dataframe\">\n",
       "  <thead>\n",
       "    <tr style=\"text-align: right;\">\n",
       "      <th></th>\n",
       "      <th>class</th>\n",
       "      <th>comment</th>\n",
       "    </tr>\n",
       "  </thead>\n",
       "  <tbody>\n",
       "    <tr>\n",
       "      <th>0</th>\n",
       "      <td>AColorSelectorMorph</td>\n",
       "      <td>ColorComponentSelector showing an alpha gradie...</td>\n",
       "    </tr>\n",
       "    <tr>\n",
       "      <th>1</th>\n",
       "      <td>ASTCache</td>\n",
       "      <td>I am a simple cache for AST nodes correspondin...</td>\n",
       "    </tr>\n",
       "    <tr>\n",
       "      <th>2</th>\n",
       "      <td>ASTCacheReset</td>\n",
       "      <td>Announcement signaled to tell that the default...</td>\n",
       "    </tr>\n",
       "    <tr>\n",
       "      <th>3</th>\n",
       "      <td>ASTCacheResetTest</td>\n",
       "      <td>NaN</td>\n",
       "    </tr>\n",
       "    <tr>\n",
       "      <th>4</th>\n",
       "      <td>ASTEvaluationTest</td>\n",
       "      <td>I am testing AST evaluation</td>\n",
       "    </tr>\n",
       "    <tr>\n",
       "      <th>5</th>\n",
       "      <td>ASTPluginMeaningOfLife</td>\n",
       "      <td>A simple example for a AST transforming compil...</td>\n",
       "    </tr>\n",
       "    <tr>\n",
       "      <th>6</th>\n",
       "      <td>ASTTransformExamplePluginActive</td>\n",
       "      <td>This class changes the default compiler used t...</td>\n",
       "    </tr>\n",
       "    <tr>\n",
       "      <th>7</th>\n",
       "      <td>ASTTransformationPluginTest</td>\n",
       "      <td>NaN</td>\n",
       "    </tr>\n",
       "    <tr>\n",
       "      <th>8</th>\n",
       "      <td>ATraitedClass</td>\n",
       "      <td>Simple class to be traited in the tests</td>\n",
       "    </tr>\n",
       "    <tr>\n",
       "      <th>9</th>\n",
       "      <td>Abort</td>\n",
       "      <td>Notify to abort a task</td>\n",
       "    </tr>\n",
       "  </tbody>\n",
       "</table>\n",
       "</div>"
      ],
      "text/plain": [
       "                             class  \\\n",
       "0              AColorSelectorMorph   \n",
       "1                         ASTCache   \n",
       "2                    ASTCacheReset   \n",
       "3                ASTCacheResetTest   \n",
       "4                ASTEvaluationTest   \n",
       "5           ASTPluginMeaningOfLife   \n",
       "6  ASTTransformExamplePluginActive   \n",
       "7      ASTTransformationPluginTest   \n",
       "8                    ATraitedClass   \n",
       "9                            Abort   \n",
       "\n",
       "                                             comment  \n",
       "0  ColorComponentSelector showing an alpha gradie...  \n",
       "1  I am a simple cache for AST nodes correspondin...  \n",
       "2  Announcement signaled to tell that the default...  \n",
       "3                                                NaN  \n",
       "4                       I am testing AST evaluation   \n",
       "5  A simple example for a AST transforming compil...  \n",
       "6  This class changes the default compiler used t...  \n",
       "7                                                NaN  \n",
       "8            Simple class to be traited in the tests  \n",
       "9                             Notify to abort a task  "
      ]
     },
     "execution_count": 2,
     "metadata": {},
     "output_type": "execute_result"
    }
   ],
   "source": [
    "DATASET_FILE = 'data/pharo/class_comments_pharo.csv'\n",
    "\n",
    "dataset = pd.read_csv(DATASET_FILE, header=None, names=['class', 'comment'])\n",
    "\n",
    "dataset[:10]"
   ]
  },
  {
   "cell_type": "markdown",
   "metadata": {},
   "source": [
    "## Dataset preparation"
   ]
  },
  {
   "cell_type": "markdown",
   "metadata": {},
   "source": [
    "### Replace the NaN in the comments with empty string (IE empty comments)"
   ]
  },
  {
   "cell_type": "code",
   "execution_count": 3,
   "metadata": {},
   "outputs": [
    {
     "name": "stdout",
     "output_type": "stream",
     "text": [
      "Any null values left : False\n"
     ]
    }
   ],
   "source": [
    "df = dataset.copy()\n",
    "\n",
    "df[\"comment\"].fillna(\" \", inplace=True)\n",
    "\n",
    "print(f\"Any null values left : {df.isnull().values.any()}\")"
   ]
  },
  {
   "cell_type": "markdown",
   "metadata": {},
   "source": [
    "## Comment length"
   ]
  },
  {
   "cell_type": "markdown",
   "metadata": {},
   "source": [
    "### Preprocessing"
   ]
  },
  {
   "cell_type": "code",
   "execution_count": 4,
   "metadata": {},
   "outputs": [
    {
     "name": "stderr",
     "output_type": "stream",
     "text": [
      "[nltk_data] Downloading package stopwords to\n",
      "[nltk_data]     C:\\Users\\Ludo\\AppData\\Roaming\\nltk_data...\n",
      "[nltk_data]   Package stopwords is already up-to-date!\n"
     ]
    }
   ],
   "source": [
    "nltk.download('stopwords')\n",
    "\n",
    "stopwords = nltk.corpus.stopwords.words('english')"
   ]
  },
  {
   "cell_type": "code",
   "execution_count": 5,
   "metadata": {},
   "outputs": [],
   "source": [
    "def preprocess_comment(comment, stopwords):\n",
    "    # split the comment text into lowercase words\n",
    "    comment = nltk.word_tokenize(comment)        \n",
    "    comment = [word.lower() for word in comment if word.isalnum()]\n",
    "    \n",
    "\n",
    "    # filter the stopwords and the punctuation\n",
    "    try:\n",
    "        comment = [word for word in comment if word not in stopwords]\n",
    "    except:\n",
    "        print(e)\n",
    "    \n",
    "    return comment\n",
    "\n",
    "comments = df[\"comment\"]\n",
    "comments = [preprocess_comment(comment, stopwords=stopwords) for comment in comments]"
   ]
  },
  {
   "cell_type": "markdown",
   "metadata": {},
   "source": [
    "### Computations"
   ]
  },
  {
   "cell_type": "code",
   "execution_count": 6,
   "metadata": {},
   "outputs": [
    {
     "name": "stdout",
     "output_type": "stream",
     "text": [
      "Total number of comments : 7863\n",
      "\n",
      "Number of empty comments : 1541\n",
      "Ratio of empty comments : 19.6 %\n",
      "\n",
      "Number of comments with too few words (but not empty) : 196\n",
      "Ratio of comments too short : 2.5 %\n"
     ]
    }
   ],
   "source": [
    "def print_comment_length_metrics(comments):\n",
    "    MIN_COMMENT_LENGTH = 3\n",
    "\n",
    "    n_empty_comments = sum(map(lambda comment: 1 if len(comment) == 0 else 0, comments))\n",
    "    n_lower_length = sum(map(lambda comment: 1 if len(comment) < MIN_COMMENT_LENGTH and len(comment) > 0 else 0, comments))\n",
    "\n",
    "    print(f\"Total number of comments : {len(comments)}\\n\")\n",
    "    print(f\"Number of empty comments : {n_empty_comments}\")\n",
    "    print(f\"Ratio of empty comments : {(n_empty_comments / len(comments))*100:.1f} %\\n\")\n",
    "\n",
    "    print(f\"Number of comments with too few words (but not empty) : {n_lower_length}\")\n",
    "    print(f\"Ratio of comments too short : {(n_lower_length / len(comments))*100:.1f} %\")\n",
    "    \n",
    "\n",
    "print_comment_length_metrics(comments)"
   ]
  },
  {
   "cell_type": "markdown",
   "metadata": {},
   "source": [
    "### Plots"
   ]
  },
  {
   "cell_type": "code",
   "execution_count": 7,
   "metadata": {},
   "outputs": [],
   "source": [
    "import matplotlib.pyplot as plt\n",
    "from statistics import mean, median\n",
    "\n",
    "def plot_histogram(values, bins, title, xlabel, ylabel, yscale_val='linear', title_additional_info=\"\",\n",
    "                   plot_average=False, plot_median=False):\n",
    "    \n",
    "    if title_additional_info != \"\":\n",
    "        title = f\"{title} ({title_additional_info})\"\n",
    "    \n",
    "    plt.hist(values, bins=bins)\n",
    "    plt.yscale(value=yscale_val)\n",
    "    plt.title(title)\n",
    "    plt.xlabel(xlabel)\n",
    "    plt.ylabel(ylabel)\n",
    "    \n",
    "    if(plot_average):\n",
    "        mean_val = mean(values)\n",
    "        plt.axvline(mean_val, color='k', linestyle='dashed', linewidth=1)\n",
    "        plt.min_ylim, max_ylim = plt.ylim()\n",
    "        plt.text(mean_val*1.1, max_ylim*0.7, f\"Avg : {mean_val:.2f}\")\n",
    "    if(plot_median):\n",
    "        median_val = median(values)\n",
    "        plt.axvline(median_val, color='k', linestyle='dashed', linewidth=1)\n",
    "        plt.min_ylim, max_ylim = plt.ylim()\n",
    "        plt.text(median_val*1.1, max_ylim*0.7, f\"Median : {median_val:.2f}\")\n",
    "        \n",
    "    plt.show()"
   ]
  },
  {
   "cell_type": "code",
   "execution_count": 8,
   "metadata": {},
   "outputs": [
    {
     "data": {
      "image/png": "[encoded data removed]",
      "text/plain": [
       "<Figure size 432x288 with 1 Axes>"
      ]
     },
     "metadata": {
      "needs_background": "light"
     },
     "output_type": "display_data"
    }
   ],
   "source": [
    "def plot_hist_comments_len(comments, title_additional_info = \"\"):\n",
    "    comments_len = list(map(lambda c: len(c), comments))       \n",
    "    plot_histogram(comments_len, bins=20, yscale_val='log', \n",
    "                    title=\"Histogram of comments length\", title_additional_info=title_additional_info,\n",
    "                    ylabel='Number of comments (logarithmic)', xlabel='Number of words in the comment', \n",
    "                    plot_average=False, plot_median=True)\n",
    "    \n",
    "plot_hist_comments_len(comments)"
   ]
  },
  {
   "cell_type": "markdown",
   "metadata": {},
   "source": [
    "## Analyzing language properties of comments"
   ]
  },
  {
   "cell_type": "code",
   "execution_count": 9,
   "metadata": {},
   "outputs": [
    {
     "data": {
      "application/vnd.jupyter.widget-view+json": {
       "model_id": "790e9fbb6eff402d9d49e4a03913cbf0",
       "version_major": 2,
       "version_minor": 0
      },
      "text/plain": [
       "HBox(children=(HTML(value=''), FloatProgress(value=0.0, max=7863.0), HTML(value='')))"
      ]
     },
     "metadata": {},
     "output_type": "display_data"
    },
    {
     "name": "stdout",
     "output_type": "stream",
     "text": [
      "\n"
     ]
    }
   ],
   "source": [
    "from readcalc import readcalc\n",
    "from IPython.utils import io\n",
    "\n",
    "def get_gunning_fog(comment):\n",
    "    with io.capture_output() as captured:\n",
    "        calc = readcalc.ReadCalc(comment)\n",
    "        val = calc.get_gunning_fog_index()\n",
    "    return val \n",
    "\n",
    "def get_flesch_reading(comment):\n",
    "    with io.capture_output() as captured:\n",
    "        calc = readcalc.ReadCalc(comment)\n",
    "        val = calc.get_flesch_reading_ease()\n",
    "    return val \n",
    "\n",
    "def get_smog_index(comment):\n",
    "    with io.capture_output() as captured:\n",
    "        calc = readcalc.ReadCalc(comment)\n",
    "        val = calc.get_smog_index()\n",
    "    return val \n",
    "\n",
    "\n",
    "indices_functions = {\n",
    "    'flesch_reading_ease':get_flesch_reading,\n",
    "    'gunning_fog':get_gunning_fog,\n",
    "    'smog_index':get_smog_index,\n",
    "}\n",
    "\n",
    "def compute_reading_ease_metrics(comments):\n",
    "    # init the dictionnary that will contain each index metric as key and the values for each comment as the values\n",
    "    indices_values = {}\n",
    "    for index_label in indices_functions.keys():\n",
    "        indices_values[index_label] = []\n",
    "\n",
    "    for comment in tqdm(comments):\n",
    "        for index_label, index_func in indices_functions.items():\n",
    "            val = index_func(comment)\n",
    "            indices_values[index_label].append(val)\n",
    "            \n",
    "    return indices_values\n",
    "\n",
    "indices_values = compute_reading_ease_metrics(df[\"comment\"])"
   ]
  },
  {
   "cell_type": "code",
   "execution_count": 10,
   "metadata": {},
   "outputs": [
    {
     "data": {
      "image/png": "[encoded data removed]",
      "text/plain": [
       "<Figure size 432x288 with 1 Axes>"
      ]
     },
     "metadata": {
      "needs_background": "light"
     },
     "output_type": "display_data"
    },
    {
     "data": {
      "image/png": "[encoded data removed]",
      "text/plain": [
       "<Figure size 432x288 with 1 Axes>"
      ]
     },
     "metadata": {
      "needs_background": "light"
     },
     "output_type": "display_data"
    },
    {
     "data": {
      "image/png": "[encoded data removed]",
      "text/plain": [
       "<Figure size 432x288 with 1 Axes>"
      ]
     },
     "metadata": {
      "needs_background": "light"
     },
     "output_type": "display_data"
    }
   ],
   "source": [
    "def plot_indices_values(indices_values, title_additional_info=\"\"):\n",
    "    for label, values in indices_values.items():\n",
    "        values = list(filter(lambda val: val > 0, values))\n",
    "        plot_histogram(values, bins=20, \n",
    "                        title=f\"Readability of comments using {label}\", title_additional_info=title_additional_info, \n",
    "                        yscale_val='log', \n",
    "                        ylabel='Number of comments (logarithmic)',\n",
    "                        xlabel='Readability score',\n",
    "                        plot_median=True)    \n",
    "\n",
    "\n",
    "\n",
    "plot_indices_values(indices_values)"
   ]
  },
  {
   "cell_type": "markdown",
   "metadata": {},
   "source": [
    "### Indices explained\n",
    "\n",
    "#### Flesch reading ease\n",
    "\n",
    "Higher is better.\n",
    "\n",
    "[Source](https://yoast.com/flesch-reading-ease-score)\n",
    "- 90-100\tvery easy to read, easily understood by an average 11-year-old student-\n",
    "- 80-90\teasy to read\n",
    "- 70-80\tfairly easy to read\n",
    "- 60-70\teasily understood by 13- to 15-year-old students\n",
    "- 50-60\tfairly difficult to read\n",
    "- 30-50\tdifficult to read, best understood by college graduates\n",
    "- 0-30\tvery difficult to read, best understood by university graduates\n",
    "\n",
    "#### Gunning Fog\n",
    "\n",
    "Lower is better.\n",
    "\n",
    "[Source](https://en.wikipedia.org/wiki/Gunning_fog_index)\n",
    "- 17\tCollege graduate\n",
    "- 16\tCollege senior\n",
    "- 15\tCollege junior\n",
    "- 14\tCollege sophomore\n",
    "- 13\tCollege freshman\n",
    "- 12\tHigh school senior\n",
    "- 11\tHigh school junior\n",
    "- 10\tHigh school sophomore\n",
    "- 9\tHigh school freshman\n",
    "- 8\tEighth grade\n",
    "- 7\tSeventh grade\n",
    "- 6\tSixth grade\n",
    "\n",
    "#### Smog index\n",
    "\n",
    "[https://en.wikipedia.org/wiki/SMOG]\n",
    "$grade = 1.043 \\sqrt{number \\; of \\; polysyllables* \\frac{30}{number\\; of \\;sentences}} + 3.1291$\n",
    "\n",
    "Results can be interpreted using this [table](https://www.textcompare.org/readability/smog-index#Grade-Conversion)"
   ]
  },
  {
   "cell_type": "markdown",
   "metadata": {},
   "source": [
    "#### Split the class into subwords"
   ]
  },
  {
   "cell_type": "code",
   "execution_count": 11,
   "metadata": {},
   "outputs": [
    {
     "name": "stdout",
     "output_type": "stream",
     "text": [
      "['A', 'Color', 'Selector', 'Morph']\n",
      "['AST', 'Cache']\n",
      "['AST', 'Cache', 'Reset']\n",
      "['AST', 'Cache', 'Reset', 'Test']\n",
      "['AST', 'Evaluation', 'Test']\n",
      "['AST', 'Plugin', 'Meaning', 'Of', 'Life']\n",
      "['AST', 'Transform', 'Example', 'Plugin', 'Active']\n",
      "['AST', 'Transformation', 'Plugin', 'Test']\n",
      "['A', 'Traited', 'Class']\n",
      "['Abort']\n"
     ]
    }
   ],
   "source": [
    "import re\n",
    "\n",
    "def camel_case_splitter(word):\n",
    "    splitted = re.sub('([A-Z][a-z]+)', r' \\1', re.sub('(([A-Z]|[0-9A-Z])+)', r' \\1', word)).split()\n",
    "    return splitted\n",
    "\n",
    "for class_name in df['class'][:10]:\n",
    "    print(camel_case_splitter(class_name))"
   ]
  },
  {
   "cell_type": "markdown",
   "metadata": {},
   "source": [
    "### Code-Comment coherence\n",
    "\n",
    "#### C_Coeff explanation\n",
    "\n",
    "The comparison counts how many words from one set\n",
    "correspond to a similar word in the other set. Two words are\n",
    "similar iff their Levenshtein distance is **smaller than 2**. \n",
    "\n",
    "The $c_{coeff}$ metric denotes the number of corresponding words\n",
    "divided by the total number of comment words. \n",
    "\n",
    "Based on preliminary experiments with manual evaluation,\n",
    "we set two thresholds and inspect member comments with\n",
    "**$c_{coeff} = 0$ and $c_{coeff} > 0.5$**.\n",
    "\n",
    "*Quality Analysis of Source Code Comments*"
   ]
  },
  {
   "cell_type": "code",
   "execution_count": 12,
   "metadata": {},
   "outputs": [
    {
     "data": {
      "application/vnd.jupyter.widget-view+json": {
       "model_id": "df61d1afbce4472a99a2ebc7305b4ca0",
       "version_major": 2,
       "version_minor": 0
      },
      "text/plain": [
       "HBox(children=(HTML(value=''), FloatProgress(value=1.0, bar_style='info', layout=Layout(width='20px'), max=1.0…"
      ]
     },
     "metadata": {},
     "output_type": "display_data"
    },
    {
     "name": "stdout",
     "output_type": "stream",
     "text": [
      "\n"
     ]
    }
   ],
   "source": [
    "from nltk.metrics import edit_distance\n",
    "\n",
    "# if the edit distance is smaller than this threshold, words are considered similar\n",
    "DIST_SIMILARITY_THRESHOLD = 2\n",
    "\n",
    "stopwords = nltk.corpus.stopwords.words('english')\n",
    "\n",
    "def compute_c_coeff(comments, class_names, class_names_splitter=camel_case_splitter, stopwords=[]): \n",
    "    class_coeff_dict= {}\n",
    "\n",
    "    for comment, class_name in tqdm(zip(comments, class_names)):\n",
    "        # split class name into tokens by camel case and set them to lower case\n",
    "        splitted_class_name = class_names_splitter(class_name)\n",
    "        splitted_class_name = [word.lower() for word in splitted_class_name]\n",
    "\n",
    "        # tokenize, remove stop words and split commment into words\n",
    "        comment = preprocess_comment(comment, stopwords=stopwords)\n",
    "\n",
    "        # if this is an empty comment, skip this comment computation and set to -1\n",
    "        # TODO : discard\n",
    "        if len(comment) == 0:\n",
    "            class_coeff_dict[class_name] = -1\n",
    "            continue\n",
    "\n",
    "        n_similar = 0\n",
    "        for comment_word in comment:\n",
    "            for class_word in splitted_class_name:\n",
    "                if edit_distance(comment_word, class_word) < DIST_SIMILARITY_THRESHOLD:\n",
    "                    n_similar += 1\n",
    "                    break\n",
    "\n",
    "        c_coeff = n_similar / (float)(len(comment))\n",
    "        class_coeff_dict[class_name] = c_coeff\n",
    "    \n",
    "    return class_coeff_dict\n",
    "\n",
    "\n",
    "class_coeff_dict = compute_c_coeff(df[\"comment\"], df[\"class\"], class_names_splitter=camel_case_splitter, stopwords=stopwords)"
   ]
  },
  {
   "cell_type": "markdown",
   "metadata": {},
   "source": [
    "### Sample some examples"
   ]
  },
  {
   "cell_type": "code",
   "execution_count": 13,
   "metadata": {},
   "outputs": [
    {
     "name": "stdout",
     "output_type": "stream",
     "text": [
      "[Class] KMComposedModifier : I represent a composed key modifier. I contain a c...\", c_coeff = 0.21\n",
      "\n",
      "[Class] Shape : I am an abstract class that knows my bounds and if...\", c_coeff = 0.00\n",
      "\n",
      "[Class] RBArchitectureLintRule : I represent an architectural rule.\r",
      "I work at the p...\", c_coeff = 0.10\n",
      "\n",
      "[Class] FTExamples : A list of examples. \r",
      "See class side....\", c_coeff = 0.20\n",
      "\n",
      "[Class] JoinSide : The join side...\", c_coeff = 1.00\n",
      "\n"
     ]
    }
   ],
   "source": [
    "N_SAMPLE = 5\n",
    "\n",
    "for iter_tuple in df.sample(n=N_SAMPLE).itertuples():\n",
    "    class_name = iter_tuple[1]\n",
    "    comment = iter_tuple[2]\n",
    "    print(f\"[Class] {class_name} : {comment[:50]}...\\\", c_coeff = {class_coeff_dict[class_name]:.2f}\\n\")"
   ]
  },
  {
   "cell_type": "code",
   "execution_count": 14,
   "metadata": {},
   "outputs": [
    {
     "data": {
      "image/png": "[encoded data removed]",
      "text/plain": [
       "<Figure size 432x288 with 1 Axes>"
      ]
     },
     "metadata": {
      "needs_background": "light"
     },
     "output_type": "display_data"
    }
   ],
   "source": [
    "def plot_c_coeffs(class_coeff_dict, title_additional_info=\"\"):\n",
    "    values = list(filter(lambda val: val >= 0, class_coeff_dict.values()))\n",
    "    plot_histogram(values, bins=10, \n",
    "                        title=f\"C_Coeff of class comments\", title_additional_info=title_additional_info,\n",
    "                        yscale_val='log', \n",
    "                        ylabel='Number of comments (logarithmic)',\n",
    "                        xlabel='C_Coeff',\n",
    "                        plot_median=True)\n",
    "    \n",
    "plot_c_coeffs(class_coeff_dict)"
   ]
  },
  {
   "cell_type": "code",
   "execution_count": 15,
   "metadata": {},
   "outputs": [
    {
     "name": "stdout",
     "output_type": "stream",
     "text": [
      "Number of non-empty comments : 6322\n",
      "\n",
      "Number of comments with c_coeff = 0 (completely dissimilar) : 664 (10.50) %\n",
      "Number of comments with c_coeff >= 0.5 (quite similar) : 1051 (16.62) %\n",
      "Number of comments with c_coeff >= 0.75 (really similar) : 312 (4.94) %\n"
     ]
    }
   ],
   "source": [
    "from functools import reduce\n",
    "\n",
    "THRESH_USELESS_HIGH = 0.75\n",
    "THRESH_USELESS_LOW = 0.5\n",
    "\n",
    "def print_c_coeffs_metrics(class_coeff_dict, thresh_high, thresh_low):\n",
    "    c_coeff_vals = class_coeff_dict.values()\n",
    "    \n",
    "    n_non_empty = reduce(lambda n, val: n + 1 if val >= 0 else n, c_coeff_vals, 0)\n",
    "    \n",
    "    \n",
    "    n_zero = reduce(lambda n, val: n + 1 if val == 0 else n, c_coeff_vals, 0)\n",
    "    n_low = reduce(lambda n, val: n + 1 if val >= thresh_low else n, c_coeff_vals, 0)\n",
    "    n_high = reduce(lambda n, val: n + 1 if val >= thresh_high else n, c_coeff_vals, 0)\n",
    "\n",
    "    \n",
    "    print(f\"Number of non-empty comments : {n_non_empty}\\n\")\n",
    "    print(f\"Number of comments with c_coeff = 0 (completely dissimilar) : {n_zero} ({n_zero*100/n_non_empty:.2f}) %\")\n",
    "    print(f\"Number of comments with c_coeff >= {thresh_low} (quite similar) : {n_low} ({n_low*100/n_non_empty:.2f}) %\")\n",
    "    print(f\"Number of comments with c_coeff >= {thresh_high} (really similar) : {n_high} ({n_high*100/n_non_empty:.2f}) %\")\n",
    "    \n",
    "print_c_coeffs_metrics(class_coeff_dict, thresh_high=THRESH_USELESS_HIGH, thresh_low=THRESH_USELESS_LOW)"
   ]
  },
  {
   "cell_type": "markdown",
   "metadata": {},
   "source": [
    "## Python comments"
   ]
  },
  {
   "cell_type": "code",
   "execution_count": 16,
   "metadata": {},
   "outputs": [],
   "source": [
    "import os\n",
    "DATA_PATH = 'data/python/'"
   ]
  },
  {
   "cell_type": "code",
   "execution_count": 17,
   "metadata": {},
   "outputs": [],
   "source": [
    "python_datasets_dict = {}\n",
    "\n",
    "for filename in os.listdir(DATA_PATH):\n",
    "    df = pd.read_csv(f\"{DATA_PATH}{filename}\")\n",
    "    df[\"classComment\"].fillna(\"\", inplace=True)\n",
    "    # find the dot at the end and slice to remove the extension\n",
    "    dataset_label = filename[:filename.rfind('.')]\n",
    "    python_datasets_dict[dataset_label] = df\n"
   ]
  },
  {
   "cell_type": "markdown",
   "metadata": {},
   "source": [
    "s = python_datasets_dict['django'][\"classComment\"]\n",
    "c_length = s.str.len().values.tolist()\n",
    "\n",
    "c_length = filter(lambda x: x < 3 and x != 0, c_length)\n",
    "\n",
    "print(list(c_length))"
   ]
  },
  {
   "cell_type": "markdown",
   "metadata": {},
   "source": [
    "### Comments length"
   ]
  },
  {
   "cell_type": "code",
   "execution_count": 18,
   "metadata": {},
   "outputs": [
    {
     "name": "stdout",
     "output_type": "stream",
     "text": [
      "For dataset of comments from : django\n",
      "-----------------------------------------------------\n",
      "Total number of comments : 8750\n",
      "\n",
      "Number of empty comments : 7587\n",
      "Ratio of empty comments : 86.7 %\n",
      "\n",
      "Number of comments with too few words (but not empty) : 0\n",
      "Ratio of comments too short : 0.0 %\n"
     ]
    },
    {
     "data": {
      "image/png": "[encoded data removed]",
      "text/plain": [
       "<Figure size 432x288 with 1 Axes>"
      ]
     },
     "metadata": {
      "needs_background": "light"
     },
     "output_type": "display_data"
    },
    {
     "name": "stdout",
     "output_type": "stream",
     "text": [
      "For dataset of comments from : ipython\n",
      "-----------------------------------------------------\n",
      "Total number of comments : 543\n",
      "\n",
      "Number of empty comments : 327\n",
      "Ratio of empty comments : 60.2 %\n",
      "\n",
      "Number of comments with too few words (but not empty) : 0\n",
      "Ratio of comments too short : 0.0 %\n"
     ]
    },
    {
     "data": {
      "image/png": "[encoded data removed]",
      "text/plain": [
       "<Figure size 432x288 with 1 Axes>"
      ]
     },
     "metadata": {
      "needs_background": "light"
     },
     "output_type": "display_data"
    },
    {
     "name": "stdout",
     "output_type": "stream",
     "text": [
      "For dataset of comments from : mailpile\n",
      "-----------------------------------------------------\n",
      "Total number of comments : 521\n",
      "\n",
      "Number of empty comments : 239\n",
      "Ratio of empty comments : 45.9 %\n",
      "\n",
      "Number of comments with too few words (but not empty) : 0\n",
      "Ratio of comments too short : 0.0 %\n"
     ]
    },
    {
     "data": {
      "image/png": "[encoded data removed]",
      "text/plain": [
       "<Figure size 432x288 with 1 Axes>"
      ]
     },
     "metadata": {
      "needs_background": "light"
     },
     "output_type": "display_data"
    },
    {
     "name": "stdout",
     "output_type": "stream",
     "text": [
      "For dataset of comments from : pandas\n",
      "-----------------------------------------------------\n",
      "Total number of comments : 1753\n",
      "\n",
      "Number of empty comments : 1375\n",
      "Ratio of empty comments : 78.4 %\n",
      "\n",
      "Number of comments with too few words (but not empty) : 0\n",
      "Ratio of comments too short : 0.0 %\n"
     ]
    },
    {
     "data": {
      "image/png": "[encoded data removed]",
      "text/plain": [
       "<Figure size 432x288 with 1 Axes>"
      ]
     },
     "metadata": {
      "needs_background": "light"
     },
     "output_type": "display_data"
    },
    {
     "name": "stdout",
     "output_type": "stream",
     "text": [
      "For dataset of comments from : pipenv\n",
      "-----------------------------------------------------\n",
      "Total number of comments : 1866\n",
      "\n",
      "Number of empty comments : 703\n",
      "Ratio of empty comments : 37.7 %\n",
      "\n",
      "Number of comments with too few words (but not empty) : 0\n",
      "Ratio of comments too short : 0.0 %\n"
     ]
    },
    {
     "data": {
      "image/png": "[encoded data removed]",
      "text/plain": [
       "<Figure size 432x288 with 1 Axes>"
      ]
     },
     "metadata": {
      "needs_background": "light"
     },
     "output_type": "display_data"
    },
    {
     "name": "stdout",
     "output_type": "stream",
     "text": [
      "For dataset of comments from : pytorch\n",
      "-----------------------------------------------------\n",
      "Total number of comments : 2699\n",
      "\n",
      "Number of empty comments : 2179\n",
      "Ratio of empty comments : 80.7 %\n",
      "\n",
      "Number of comments with too few words (but not empty) : 0\n",
      "Ratio of comments too short : 0.0 %\n"
     ]
    },
    {
     "data": {
      "image/png": "[encoded data removed]",
      "text/plain": [
       "<Figure size 432x288 with 1 Axes>"
      ]
     },
     "metadata": {
      "needs_background": "light"
     },
     "output_type": "display_data"
    },
    {
     "name": "stdout",
     "output_type": "stream",
     "text": [
      "For dataset of comments from : requests\n",
      "-----------------------------------------------------\n",
      "Total number of comments : 79\n",
      "\n",
      "Number of empty comments : 36\n",
      "Ratio of empty comments : 45.6 %\n",
      "\n",
      "Number of comments with too few words (but not empty) : 0\n",
      "Ratio of comments too short : 0.0 %\n"
     ]
    },
    {
     "data": {
      "image/png": "[encoded data removed]",
      "text/plain": [
       "<Figure size 432x288 with 1 Axes>"
      ]
     },
     "metadata": {
      "needs_background": "light"
     },
     "output_type": "display_data"
    }
   ],
   "source": [
    "for label in python_datasets_dict.keys():\n",
    "    df = python_datasets_dict[label].copy()\n",
    "    print(f\"For dataset of comments from : {label}\")\n",
    "    print(\"-----------------------------------------------------\")\n",
    "    print_comment_length_metrics(df[\"classComment\"])\n",
    "    plot_hist_comments_len(df[\"classComment\"], title_additional_info=label)\n",
    "    "
   ]
  },
  {
   "cell_type": "markdown",
   "metadata": {},
   "source": [
    "### Readability indices"
   ]
  },
  {
   "cell_type": "code",
   "execution_count": 19,
   "metadata": {},
   "outputs": [
    {
     "data": {
      "application/vnd.jupyter.widget-view+json": {
       "model_id": "317b4bd00b1f4a82a33659104bd99e80",
       "version_major": 2,
       "version_minor": 0
      },
      "text/plain": [
       "HBox(children=(HTML(value=''), FloatProgress(value=0.0, max=7863.0), HTML(value='')))"
      ]
     },
     "metadata": {},
     "output_type": "display_data"
    },
    {
     "name": "stdout",
     "output_type": "stream",
     "text": [
      "\n"
     ]
    },
    {
     "data": {
      "application/vnd.jupyter.widget-view+json": {
       "model_id": "e094a4136b7842918d331b7be2e72890",
       "version_major": 2,
       "version_minor": 0
      },
      "text/plain": [
       "HBox(children=(HTML(value=''), FloatProgress(value=0.0, max=7863.0), HTML(value='')))"
      ]
     },
     "metadata": {},
     "output_type": "display_data"
    },
    {
     "name": "stdout",
     "output_type": "stream",
     "text": [
      "\n"
     ]
    },
    {
     "data": {
      "application/vnd.jupyter.widget-view+json": {
       "model_id": "276cbc8a739f4f32bf414941ab2b8ede",
       "version_major": 2,
       "version_minor": 0
      },
      "text/plain": [
       "HBox(children=(HTML(value=''), FloatProgress(value=0.0, max=7863.0), HTML(value='')))"
      ]
     },
     "metadata": {},
     "output_type": "display_data"
    },
    {
     "name": "stdout",
     "output_type": "stream",
     "text": [
      "\n"
     ]
    },
    {
     "data": {
      "application/vnd.jupyter.widget-view+json": {
       "model_id": "8838d3ab2bc44e088c70d0b4de337327",
       "version_major": 2,
       "version_minor": 0
      },
      "text/plain": [
       "HBox(children=(HTML(value=''), FloatProgress(value=0.0, max=7863.0), HTML(value='')))"
      ]
     },
     "metadata": {},
     "output_type": "display_data"
    },
    {
     "name": "stdout",
     "output_type": "stream",
     "text": [
      "\n"
     ]
    },
    {
     "data": {
      "application/vnd.jupyter.widget-view+json": {
       "model_id": "5882ed84a0974a048bbc36f18057ddae",
       "version_major": 2,
       "version_minor": 0
      },
      "text/plain": [
       "HBox(children=(HTML(value=''), FloatProgress(value=0.0, max=7863.0), HTML(value='')))"
      ]
     },
     "metadata": {},
     "output_type": "display_data"
    },
    {
     "name": "stdout",
     "output_type": "stream",
     "text": [
      "\n"
     ]
    },
    {
     "data": {
      "application/vnd.jupyter.widget-view+json": {
       "model_id": "8ee5cdded44e49fab43c697620207905",
       "version_major": 2,
       "version_minor": 0
      },
      "text/plain": [
       "HBox(children=(HTML(value=''), FloatProgress(value=0.0, max=7863.0), HTML(value='')))"
      ]
     },
     "metadata": {},
     "output_type": "display_data"
    },
    {
     "name": "stdout",
     "output_type": "stream",
     "text": [
      "\n"
     ]
    },
    {
     "data": {
      "application/vnd.jupyter.widget-view+json": {
       "model_id": "89e27be905384171bd768d1c866e995f",
       "version_major": 2,
       "version_minor": 0
      },
      "text/plain": [
       "HBox(children=(HTML(value=''), FloatProgress(value=0.0, max=7863.0), HTML(value='')))"
      ]
     },
     "metadata": {},
     "output_type": "display_data"
    },
    {
     "name": "stdout",
     "output_type": "stream",
     "text": [
      "\n"
     ]
    }
   ],
   "source": [
    "## TODO : transform pipeline and / or save results somewhere\n",
    "for label in python_datasets_dict.keys():\n",
    "    df = python_datasets_dict[label].copy()\n",
    "    indices_values = compute_reading_ease_metrics(comments)\n",
    "    #plot_indices_values(indices_values=indices_values, title_additional_info=label)\n",
    "    \n",
    "    "
   ]
  },
  {
   "cell_type": "code",
   "execution_count": 20,
   "metadata": {},
   "outputs": [
    {
     "data": {
      "application/vnd.jupyter.widget-view+json": {
       "model_id": "edd06bab469840a7afe269b94a9c2faa",
       "version_major": 2,
       "version_minor": 0
      },
      "text/plain": [
       "HBox(children=(HTML(value=''), FloatProgress(value=1.0, bar_style='info', layout=Layout(width='20px'), max=1.0…"
      ]
     },
     "metadata": {},
     "output_type": "display_data"
    },
    {
     "name": "stdout",
     "output_type": "stream",
     "text": [
      "\n"
     ]
    },
    {
     "data": {
      "application/vnd.jupyter.widget-view+json": {
       "model_id": "b4a468fae1f7478e95476d0d204ead0f",
       "version_major": 2,
       "version_minor": 0
      },
      "text/plain": [
       "HBox(children=(HTML(value=''), FloatProgress(value=1.0, bar_style='info', layout=Layout(width='20px'), max=1.0…"
      ]
     },
     "metadata": {},
     "output_type": "display_data"
    },
    {
     "name": "stdout",
     "output_type": "stream",
     "text": [
      "\n"
     ]
    },
    {
     "ename": "TypeError",
     "evalue": "expected string or bytes-like object",
     "output_type": "error",
     "traceback": [
      "\u001b[1;31m---------------------------------------------------------------------------\u001b[0m",
      "\u001b[1;31mTypeError\u001b[0m                                 Traceback (most recent call last)",
      "\u001b[1;32m<ipython-input-20-31a784c5225e>\u001b[0m in \u001b[0;36m<module>\u001b[1;34m\u001b[0m\n\u001b[0;32m      3\u001b[0m \u001b[1;33m\u001b[0m\u001b[0m\n\u001b[0;32m      4\u001b[0m     class_coeff_dict = compute_c_coeff(df[\"classComment\"], df[\"className\"], \n\u001b[1;32m----> 5\u001b[1;33m                                        class_names_splitter=camel_case_splitter, stopwords=stopwords)\n\u001b[0m\u001b[0;32m      6\u001b[0m \u001b[1;33m\u001b[0m\u001b[0m\n\u001b[0;32m      7\u001b[0m     \u001b[0mprint_comment_length_metrics\u001b[0m\u001b[1;33m\u001b[0m\u001b[1;33m\u001b[0m\u001b[0m\n",
      "\u001b[1;32m<ipython-input-12-360ec5110c13>\u001b[0m in \u001b[0;36mcompute_c_coeff\u001b[1;34m(comments, class_names, class_names_splitter, stopwords)\u001b[0m\n\u001b[0;32m     11\u001b[0m     \u001b[1;32mfor\u001b[0m \u001b[0mcomment\u001b[0m\u001b[1;33m,\u001b[0m \u001b[0mclass_name\u001b[0m \u001b[1;32min\u001b[0m \u001b[0mtqdm\u001b[0m\u001b[1;33m(\u001b[0m\u001b[0mzip\u001b[0m\u001b[1;33m(\u001b[0m\u001b[0mcomments\u001b[0m\u001b[1;33m,\u001b[0m \u001b[0mclass_names\u001b[0m\u001b[1;33m)\u001b[0m\u001b[1;33m)\u001b[0m\u001b[1;33m:\u001b[0m\u001b[1;33m\u001b[0m\u001b[1;33m\u001b[0m\u001b[0m\n\u001b[0;32m     12\u001b[0m         \u001b[1;31m# split class name into tokens by camel case and set them to lower case\u001b[0m\u001b[1;33m\u001b[0m\u001b[1;33m\u001b[0m\u001b[1;33m\u001b[0m\u001b[0m\n\u001b[1;32m---> 13\u001b[1;33m         \u001b[0msplitted_class_name\u001b[0m \u001b[1;33m=\u001b[0m \u001b[0mclass_names_splitter\u001b[0m\u001b[1;33m(\u001b[0m\u001b[0mclass_name\u001b[0m\u001b[1;33m)\u001b[0m\u001b[1;33m\u001b[0m\u001b[1;33m\u001b[0m\u001b[0m\n\u001b[0m\u001b[0;32m     14\u001b[0m         \u001b[0msplitted_class_name\u001b[0m \u001b[1;33m=\u001b[0m \u001b[1;33m[\u001b[0m\u001b[0mword\u001b[0m\u001b[1;33m.\u001b[0m\u001b[0mlower\u001b[0m\u001b[1;33m(\u001b[0m\u001b[1;33m)\u001b[0m \u001b[1;32mfor\u001b[0m \u001b[0mword\u001b[0m \u001b[1;32min\u001b[0m \u001b[0msplitted_class_name\u001b[0m\u001b[1;33m]\u001b[0m\u001b[1;33m\u001b[0m\u001b[1;33m\u001b[0m\u001b[0m\n\u001b[0;32m     15\u001b[0m \u001b[1;33m\u001b[0m\u001b[0m\n",
      "\u001b[1;32m<ipython-input-11-8caef3ce0a49>\u001b[0m in \u001b[0;36mcamel_case_splitter\u001b[1;34m(word)\u001b[0m\n\u001b[0;32m      2\u001b[0m \u001b[1;33m\u001b[0m\u001b[0m\n\u001b[0;32m      3\u001b[0m \u001b[1;32mdef\u001b[0m \u001b[0mcamel_case_splitter\u001b[0m\u001b[1;33m(\u001b[0m\u001b[0mword\u001b[0m\u001b[1;33m)\u001b[0m\u001b[1;33m:\u001b[0m\u001b[1;33m\u001b[0m\u001b[1;33m\u001b[0m\u001b[0m\n\u001b[1;32m----> 4\u001b[1;33m     \u001b[0msplitted\u001b[0m \u001b[1;33m=\u001b[0m \u001b[0mre\u001b[0m\u001b[1;33m.\u001b[0m\u001b[0msub\u001b[0m\u001b[1;33m(\u001b[0m\u001b[1;34m'([A-Z][a-z]+)'\u001b[0m\u001b[1;33m,\u001b[0m \u001b[1;34mr' \\1'\u001b[0m\u001b[1;33m,\u001b[0m \u001b[0mre\u001b[0m\u001b[1;33m.\u001b[0m\u001b[0msub\u001b[0m\u001b[1;33m(\u001b[0m\u001b[1;34m'(([A-Z]|[0-9A-Z])+)'\u001b[0m\u001b[1;33m,\u001b[0m \u001b[1;34mr' \\1'\u001b[0m\u001b[1;33m,\u001b[0m \u001b[0mword\u001b[0m\u001b[1;33m)\u001b[0m\u001b[1;33m)\u001b[0m\u001b[1;33m.\u001b[0m\u001b[0msplit\u001b[0m\u001b[1;33m(\u001b[0m\u001b[1;33m)\u001b[0m\u001b[1;33m\u001b[0m\u001b[1;33m\u001b[0m\u001b[0m\n\u001b[0m\u001b[0;32m      5\u001b[0m     \u001b[1;32mreturn\u001b[0m \u001b[0msplitted\u001b[0m\u001b[1;33m\u001b[0m\u001b[1;33m\u001b[0m\u001b[0m\n\u001b[0;32m      6\u001b[0m \u001b[1;33m\u001b[0m\u001b[0m\n",
      "\u001b[1;32mc:\\users\\ludo\\appdata\\local\\programs\\python\\python37\\lib\\re.py\u001b[0m in \u001b[0;36msub\u001b[1;34m(pattern, repl, string, count, flags)\u001b[0m\n\u001b[0;32m    190\u001b[0m     \u001b[0ma\u001b[0m \u001b[0mcallable\u001b[0m\u001b[1;33m,\u001b[0m \u001b[0mit\u001b[0m\u001b[0;31m'\u001b[0m\u001b[0ms\u001b[0m \u001b[0mpassed\u001b[0m \u001b[0mthe\u001b[0m \u001b[0mMatch\u001b[0m \u001b[0mobject\u001b[0m \u001b[1;32mand\u001b[0m \u001b[0mmust\u001b[0m \u001b[1;32mreturn\u001b[0m\u001b[1;33m\u001b[0m\u001b[1;33m\u001b[0m\u001b[0m\n\u001b[0;32m    191\u001b[0m     a replacement string to be used.\"\"\"\n\u001b[1;32m--> 192\u001b[1;33m     \u001b[1;32mreturn\u001b[0m \u001b[0m_compile\u001b[0m\u001b[1;33m(\u001b[0m\u001b[0mpattern\u001b[0m\u001b[1;33m,\u001b[0m \u001b[0mflags\u001b[0m\u001b[1;33m)\u001b[0m\u001b[1;33m.\u001b[0m\u001b[0msub\u001b[0m\u001b[1;33m(\u001b[0m\u001b[0mrepl\u001b[0m\u001b[1;33m,\u001b[0m \u001b[0mstring\u001b[0m\u001b[1;33m,\u001b[0m \u001b[0mcount\u001b[0m\u001b[1;33m)\u001b[0m\u001b[1;33m\u001b[0m\u001b[1;33m\u001b[0m\u001b[0m\n\u001b[0m\u001b[0;32m    193\u001b[0m \u001b[1;33m\u001b[0m\u001b[0m\n\u001b[0;32m    194\u001b[0m \u001b[1;32mdef\u001b[0m \u001b[0msubn\u001b[0m\u001b[1;33m(\u001b[0m\u001b[0mpattern\u001b[0m\u001b[1;33m,\u001b[0m \u001b[0mrepl\u001b[0m\u001b[1;33m,\u001b[0m \u001b[0mstring\u001b[0m\u001b[1;33m,\u001b[0m \u001b[0mcount\u001b[0m\u001b[1;33m=\u001b[0m\u001b[1;36m0\u001b[0m\u001b[1;33m,\u001b[0m \u001b[0mflags\u001b[0m\u001b[1;33m=\u001b[0m\u001b[1;36m0\u001b[0m\u001b[1;33m)\u001b[0m\u001b[1;33m:\u001b[0m\u001b[1;33m\u001b[0m\u001b[1;33m\u001b[0m\u001b[0m\n",
      "\u001b[1;31mTypeError\u001b[0m: expected string or bytes-like object"
     ]
    }
   ],
   "source": [
    "for label in python_datasets_dict.keys():\n",
    "    df = python_datasets_dict[label].copy()\n",
    "    \n",
    "    class_coeff_dict = compute_c_coeff(df[\"classComment\"], df[\"className\"], \n",
    "                                       class_names_splitter=camel_case_splitter, stopwords=stopwords)\n",
    "    \n",
    "    print_comment_length_metrics"
   ]
  }
 ],
 "metadata": {
  "kernelspec": {
   "display_name": "Python 3",
   "language": "python",
   "name": "python3"
  },
  "language_info": {
   "codemirror_mode": {
    "name": "ipython",
    "version": 3
   },
   "file_extension": ".py",
   "mimetype": "text/x-python",
   "name": "python",
   "nbconvert_exporter": "python",
   "pygments_lexer": "ipython3",
   "version": "3.7.7"
  }
 },
 "nbformat": 4,
 "nbformat_minor": 4
}

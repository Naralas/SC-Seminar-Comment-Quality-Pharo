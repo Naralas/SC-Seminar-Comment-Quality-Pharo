{
 "cells": [
  {
   "cell_type": "markdown",
   "metadata": {},
   "source": [
    "# Seminar Software Composition - Assessing Source Code Comments Quality"
   ]
  },
  {
   "cell_type": "code",
   "execution_count": 45,
   "metadata": {},
   "outputs": [
    {
     "name": "stderr",
     "output_type": "stream",
     "text": [
      "[nltk_data] Downloading package punkt to\n",
      "[nltk_data]     C:\\Users\\Ludo\\AppData\\Roaming\\nltk_data...\n",
      "[nltk_data]   Package punkt is already up-to-date!\n"
     ]
    },
    {
     "data": {
      "text/plain": [
       "True"
      ]
     },
     "execution_count": 45,
     "metadata": {},
     "output_type": "execute_result"
    }
   ],
   "source": [
    "import pandas as pd\n",
    "import numpy as np\n",
    "from tqdm.notebook import tqdm, trange\n",
    "import nltk\n",
    "import seaborn as sb\n",
    "sb.set()\n",
    "nltk.download('punkt')"
   ]
  },
  {
   "cell_type": "code",
   "execution_count": 46,
   "metadata": {},
   "outputs": [],
   "source": [
    "# helper function to print markdown\n",
    "from IPython.display import display, Markdown, Latex\n",
    "def print_md(string):\n",
    "    display(Markdown(string))"
   ]
  },
  {
   "cell_type": "markdown",
   "metadata": {},
   "source": [
    "## Dataset preparation"
   ]
  },
  {
   "cell_type": "markdown",
   "metadata": {},
   "source": [
    "### Replace the NaN in the comments with empty string (IE empty comments)"
   ]
  },
  {
   "cell_type": "code",
   "execution_count": 62,
   "metadata": {},
   "outputs": [],
   "source": [
    "from scipy import stats\n",
    "\n",
    "def prepare_dataset(df, columns):\n",
    "    print(f\"Dataset length before preprocessing : {len(df)}\")\n",
    "    \n",
    "    # extract the columns which don't need to be processed\n",
    "    filt_df = df.copy()\n",
    "    for column in columns:\n",
    "        filt_df = filt_df.loc[:, df.columns != column]\n",
    "    \n",
    "    for column in columns:\n",
    "        s = df[column]\n",
    "        \n",
    "        # remove the NaN values\n",
    "        s.fillna(\" \", inplace=True)\n",
    "        \n",
    "        # remove the outliers\n",
    "        z_scores = stats.zscore(s.map(lambda c: len(c)))\n",
    "                    \n",
    "        # filter the values that have more than 3 times the std (3 zscores)\n",
    "        \n",
    "        # in our case, do not absolute the values since we only care about too long comments\n",
    "        # z_scores = np.abs(z_scores)\n",
    "        \n",
    "        filtered_entries = (z_scores < 3)\n",
    "    \n",
    "        s = s[filtered_entries]\n",
    "        \n",
    "        \n",
    "        filt_df = pd.concat([filt_df, s], axis=1)        \n",
    "        filt_df.dropna(inplace=True)\n",
    "    \n",
    "    print(f\"Dataset length after preprocessing : {len(filt_df)}\")\n",
    "    return filt_df"
   ]
  },
  {
   "cell_type": "markdown",
   "metadata": {},
   "source": [
    "## Comment length"
   ]
  },
  {
   "cell_type": "markdown",
   "metadata": {},
   "source": [
    "### Preprocessing"
   ]
  },
  {
   "cell_type": "code",
   "execution_count": 48,
   "metadata": {},
   "outputs": [
    {
     "name": "stderr",
     "output_type": "stream",
     "text": [
      "[nltk_data] Downloading package stopwords to\n",
      "[nltk_data]     C:\\Users\\Ludo\\AppData\\Roaming\\nltk_data...\n",
      "[nltk_data]   Package stopwords is already up-to-date!\n"
     ]
    }
   ],
   "source": [
    "nltk.download('stopwords')\n",
    "\n",
    "stopwords = nltk.corpus.stopwords.words('english')"
   ]
  },
  {
   "cell_type": "code",
   "execution_count": 49,
   "metadata": {},
   "outputs": [],
   "source": [
    "def preprocess_comment(comment, stopwords):\n",
    "    # split the comment text into lowercase words\n",
    "    comment = nltk.word_tokenize(comment)        \n",
    "    comment = [word.lower() for word in comment if word.isalnum()]\n",
    "    \n",
    "\n",
    "    # filter the stopwords and the punctuation\n",
    "    try:\n",
    "        comment = [word for word in comment if word not in stopwords]\n",
    "    except:\n",
    "        print(e)\n",
    "    \n",
    "    return comment"
   ]
  },
  {
   "cell_type": "markdown",
   "metadata": {},
   "source": [
    "### Computations"
   ]
  },
  {
   "cell_type": "code",
   "execution_count": 50,
   "metadata": {},
   "outputs": [],
   "source": [
    "from statistics import mean, median\n",
    "\n",
    "def print_comment_length_metrics(comments):\n",
    "    MIN_COMMENT_LENGTH = 3\n",
    "\n",
    "    n_empty_comments = sum(map(lambda comment: 1 if len(comment) == 0 else 0, comments))\n",
    "    n_lower_length = sum(map(lambda comment: 1 if len(comment) < MIN_COMMENT_LENGTH and len(comment) > 0 else 0, comments))\n",
    "\n",
    "    print_md(f\"Total number of comments : **{len(comments)}**\\n\")\n",
    "    print_md(f\"Number of empty comments : **{n_empty_comments}** **({(n_empty_comments / len(comments))*100:.1f} %)**\")\n",
    "    print_md(f\"Number of comments with less than **{MIN_COMMENT_LENGTH}** words (and **not empty**) : **{n_lower_length}**  (**{(n_lower_length / len(comments))*100:.1f} %**)\")\n",
    "    \n",
    "    \n",
    "    map_len = map(lambda c: len(c), comments)\n",
    "    non_empty = list(filter(lambda c_len: c_len > 0, map_len))\n",
    "    \n",
    "    print_md(f\"Average comment length (excluding empty ones) : **{mean(non_empty):.0f}** words, median : **{median(non_empty):.0f}**\")"
   ]
  },
  {
   "cell_type": "markdown",
   "metadata": {},
   "source": [
    "### Plots"
   ]
  },
  {
   "cell_type": "code",
   "execution_count": 51,
   "metadata": {},
   "outputs": [],
   "source": [
    "import matplotlib.pyplot as plt\n",
    "from statistics import mean, median\n",
    "from matplotlib.ticker import PercentFormatter\n",
    "import numpy as np\n",
    "\n",
    "def plot_histogram(values, bins, title, xlabel, ylabel, yscale_val='linear', title_additional_info=\"\",\n",
    "                   plot_average=False, plot_median=False, plot_percentages = False):\n",
    "    \n",
    "    if title_additional_info != \"\":\n",
    "        title = f\"{title} ({title_additional_info})\"\n",
    "    \n",
    "    if(plot_percentages):\n",
    "        plt.hist(values, bins=bins, weights=np.ones(len(values)) / len(values))\n",
    "        plt.gca().yaxis.set_major_formatter(PercentFormatter(1))\n",
    "        plt.title(f\"\\nTotal : {len(values)}\", fontsize=12)\n",
    "    else:\n",
    "        plt.hist(values, bins=bins)\n",
    "        plt.yscale(value=yscale_val)\n",
    "    \n",
    "    plt.suptitle(title, fontsize=16, y=.995)\n",
    "    plt.xlabel(xlabel, fontsize=14)\n",
    "    plt.ylabel(ylabel, fontsize=14)\n",
    "    \n",
    "    if(plot_average):\n",
    "        mean_val = mean(values)\n",
    "        plt.axvline(mean_val, color='k', linestyle='dashed', linewidth=1)\n",
    "        plt.min_ylim, max_ylim = plt.ylim()\n",
    "        plt.text(mean_val*1.1, max_ylim*0.7, f\"Avg : {mean_val:.2f}\")\n",
    "    if(plot_median):\n",
    "        median_val = median(values)\n",
    "        plt.axvline(median_val, color='k', linestyle='dashed', linewidth=1)\n",
    "        plt.min_ylim, max_ylim = plt.ylim()\n",
    "        plt.text(median_val*1.1, max_ylim*0.7, f\"Median : {median_val:.2f}\")\n",
    "    \n",
    "\n",
    "    plt.show()"
   ]
  },
  {
   "cell_type": "code",
   "execution_count": 52,
   "metadata": {},
   "outputs": [],
   "source": [
    "def plot_hist_comments_len(comments, title_additional_info = \"\"):\n",
    "    comments_len = map(lambda c: len(c), comments)\n",
    "    comments_len = filter(lambda c: c > 0, comments_len)\n",
    "    comments_len = list(comments_len)\n",
    "            \n",
    "    plot_histogram(comments_len, bins=20, yscale_val='log', \n",
    "                    title=\"Histogram of comments length\", title_additional_info=title_additional_info,\n",
    "                    ylabel='Ratio of comments', xlabel='Number of words in the comment', \n",
    "                    plot_average=False, plot_median=True, plot_percentages=True)\n"
   ]
  },
  {
   "cell_type": "markdown",
   "metadata": {},
   "source": [
    "## Analyzing language properties of comments"
   ]
  },
  {
   "cell_type": "code",
   "execution_count": 53,
   "metadata": {},
   "outputs": [],
   "source": [
    "from readcalc import readcalc\n",
    "from IPython.utils import io\n",
    "\n",
    "def get_gunning_fog(comment):\n",
    "    with io.capture_output() as captured:\n",
    "        calc = readcalc.ReadCalc(comment)\n",
    "        val = calc.get_gunning_fog_index()\n",
    "    return val \n",
    "\n",
    "def get_flesch_reading(comment):\n",
    "    with io.capture_output() as captured:\n",
    "        calc = readcalc.ReadCalc(comment)\n",
    "        val = calc.get_flesch_reading_ease()\n",
    "    return val \n",
    "\n",
    "def get_smog_index(comment):\n",
    "    with io.capture_output() as captured:\n",
    "        calc = readcalc.ReadCalc(comment)\n",
    "        val = calc.get_smog_index()\n",
    "    return val \n",
    "\n",
    "\n",
    "indices_functions = {\n",
    "    'flesch_reading_ease':get_flesch_reading,\n",
    "    'gunning_fog':get_gunning_fog,\n",
    "    'smog_index':get_smog_index,\n",
    "}\n",
    "\n",
    "def compute_reading_ease_metrics(comments):\n",
    "    # init the dictionnary that will contain each index metric as key and the values for each comment as the values\n",
    "    indices_values = {}\n",
    "    for index_label in indices_functions.keys():\n",
    "        indices_values[index_label] = []\n",
    "\n",
    "    for comment in tqdm(comments):\n",
    "        for index_label, index_func in indices_functions.items():\n",
    "            val = index_func(comment)\n",
    "            indices_values[index_label].append(val)\n",
    "            \n",
    "    return indices_values"
   ]
  },
  {
   "cell_type": "code",
   "execution_count": 54,
   "metadata": {},
   "outputs": [],
   "source": [
    "def plot_indices_values(indices_values, title_additional_info=\"\"):\n",
    "    for label, values in indices_values.items():\n",
    "        values = list(filter(lambda val: val > 0, values))\n",
    "        plot_histogram(values, bins=20, \n",
    "                        title=f\"Readability of comments using {label}\", title_additional_info=title_additional_info, \n",
    "                        yscale_val='log', \n",
    "                        ylabel='Ratio of comments',\n",
    "                        xlabel='Readability score',\n",
    "                        plot_median=False, plot_percentages=True)"
   ]
  },
  {
   "cell_type": "markdown",
   "metadata": {},
   "source": [
    "### Indices explained\n",
    "\n",
    "#### Flesch reading ease\n",
    "\n",
    "Higher is better.\n",
    "\n",
    "[Source](https://yoast.com/flesch-reading-ease-score)\n",
    "- 90-100\tvery easy to read, easily understood by an average 11-year-old student-\n",
    "- 80-90\teasy to read\n",
    "- 70-80\tfairly easy to read\n",
    "- 60-70\teasily understood by 13- to 15-year-old students\n",
    "- 50-60\tfairly difficult to read\n",
    "- 30-50\tdifficult to read, best understood by college graduates\n",
    "- 0-30\tvery difficult to read, best understood by university graduates\n",
    "\n",
    "#### Gunning Fog\n",
    "\n",
    "Lower is better.\n",
    "\n",
    "[Source](https://en.wikipedia.org/wiki/Gunning_fog_index)\n",
    "- 17\tCollege graduate\n",
    "- 16\tCollege senior\n",
    "- 15\tCollege junior\n",
    "- 14\tCollege sophomore\n",
    "- 13\tCollege freshman\n",
    "- 12\tHigh school senior\n",
    "- 11\tHigh school junior\n",
    "- 10\tHigh school sophomore\n",
    "- 9\tHigh school freshman\n",
    "- 8\tEighth grade\n",
    "- 7\tSeventh grade\n",
    "- 6\tSixth grade\n",
    "\n",
    "#### Smog index\n",
    "\n",
    "[https://en.wikipedia.org/wiki/SMOG]\n",
    "$grade = 1.043 \\sqrt{number \\; of \\; polysyllables* \\frac{30}{number\\; of \\;sentences}} + 3.1291$\n",
    "\n",
    "Results can be interpreted using this [table](https://www.textcompare.org/readability/smog-index#Grade-Conversion)"
   ]
  },
  {
   "cell_type": "markdown",
   "metadata": {},
   "source": [
    "#### Split the class into subwords"
   ]
  },
  {
   "cell_type": "code",
   "execution_count": 55,
   "metadata": {},
   "outputs": [],
   "source": [
    "import re\n",
    "\n",
    "def camel_case_splitter(word):\n",
    "    splitted = re.sub('([A-Z][a-z]+)', r' \\1', re.sub('(([A-Z]|[0-9A-Z])+)', r' \\1', word)).split()\n",
    "    return splitted"
   ]
  },
  {
   "cell_type": "markdown",
   "metadata": {},
   "source": [
    "### Code-Comment coherence\n",
    "\n",
    "#### C_Coeff explanation\n",
    "\n",
    "The comparison counts how many words from one set\n",
    "correspond to a similar word in the other set. Two words are\n",
    "similar iff their Levenshtein distance is **smaller than 2**. \n",
    "\n",
    "The $c_{coeff}$ metric denotes the number of corresponding words\n",
    "divided by the total number of comment words. \n",
    "\n",
    "Based on preliminary experiments with manual evaluation,\n",
    "we set two thresholds and inspect member comments with\n",
    "**$c_{coeff} = 0$ and $c_{coeff} > 0.5$**.\n",
    "\n",
    "*Quality Analysis of Source Code Comments*"
   ]
  },
  {
   "cell_type": "code",
   "execution_count": 56,
   "metadata": {},
   "outputs": [],
   "source": [
    "from nltk.metrics import edit_distance\n",
    "\n",
    "# if the edit distance is smaller than this threshold, words are considered similar\n",
    "DIST_SIMILARITY_THRESHOLD = 2\n",
    "\n",
    "stopwords = nltk.corpus.stopwords.words('english')\n",
    "\n",
    "def compute_c_coeff(comments, class_names, class_names_splitter=camel_case_splitter, stopwords=[]): \n",
    "    class_coeff_dict= {}\n",
    "\n",
    "    for comment, class_name in tqdm(zip(comments, class_names)):\n",
    "        # split class name into tokens by camel case and set them to lower case\n",
    "        splitted_class_name = class_names_splitter(class_name)\n",
    "        splitted_class_name = [word.lower() for word in splitted_class_name]\n",
    "\n",
    "        # tokenize, remove stop words and split commment into words\n",
    "        comment = preprocess_comment(comment, stopwords=stopwords)\n",
    "\n",
    "        # if this is an empty comment, skip this comment computation and discard it\n",
    "        if len(comment) == 0:\n",
    "            class_coeff_dict[class_name] = -1\n",
    "            continue\n",
    "\n",
    "        n_similar = 0\n",
    "        for comment_word in comment:\n",
    "            for class_word in splitted_class_name:\n",
    "                if edit_distance(comment_word, class_word) < DIST_SIMILARITY_THRESHOLD:\n",
    "                    n_similar += 1\n",
    "                    break\n",
    "\n",
    "        c_coeff = n_similar / (float)(len(comment))\n",
    "        class_coeff_dict[class_name] = c_coeff\n",
    "    \n",
    "    return class_coeff_dict"
   ]
  },
  {
   "cell_type": "markdown",
   "metadata": {},
   "source": [
    "### Sample some examples"
   ]
  },
  {
   "cell_type": "code",
   "execution_count": 57,
   "metadata": {},
   "outputs": [],
   "source": [
    "def plot_c_coeffs(class_coeff_dict, title_additional_info=\"\"):\n",
    "    values = list(filter(lambda val: val >= 0, class_coeff_dict.values()))\n",
    "    plot_histogram(values, bins=10, \n",
    "                        title=f\"C_Coeff of class comments\", title_additional_info=title_additional_info,\n",
    "                        yscale_val='log', \n",
    "                        ylabel='Ratio of comments',\n",
    "                        xlabel='C_Coeff',\n",
    "                        plot_median=False,\n",
    "                        plot_percentages=True)"
   ]
  },
  {
   "cell_type": "code",
   "execution_count": 58,
   "metadata": {},
   "outputs": [],
   "source": [
    "from functools import reduce\n",
    "\n",
    "THRESH_USELESS_HIGH = 0.75\n",
    "THRESH_USELESS_LOW = 0.5\n",
    "\n",
    "def print_c_coeffs_metrics(class_coeff_dict, thresh_high, thresh_low):\n",
    "    c_coeff_vals = class_coeff_dict.values()\n",
    "    \n",
    "    n_non_empty = reduce(lambda n, val: n + 1 if val >= 0 else n, c_coeff_vals, 0)\n",
    "    \n",
    "    \n",
    "    n_zero = reduce(lambda n, val: n + 1 if val == 0 else n, c_coeff_vals, 0)\n",
    "    n_low = reduce(lambda n, val: n + 1 if val >= thresh_low else n, c_coeff_vals, 0)\n",
    "    n_high = reduce(lambda n, val: n + 1 if val >= thresh_high else n, c_coeff_vals, 0)\n",
    "\n",
    "    # TODO : check some examples that have too similar \n",
    "    # EG comment number of words\n",
    "    \n",
    "    print_md(f\"Number of **non-empty** comments : **{n_non_empty}**\\n\")\n",
    "    print_md(f\"Number of comments with **c_coeff = 0** (completely dissimilar) : **{n_zero} ({n_zero*100/n_non_empty:.2f}) %**\")\n",
    "    print_md(f\"Number of comments with **c_coeff >= {thresh_low}** (quite similar) : **{n_low} ({n_low*100/n_non_empty:.2f}) %**\")\n",
    "    print_md(f\"Number of comments with **c_coeff >= {thresh_high}** (really similar) : **{n_high} ({n_high*100/n_non_empty:.2f}) %**\")"
   ]
  },
  {
   "cell_type": "markdown",
   "metadata": {},
   "source": [
    "#### Print some comments with values in between the thresholds"
   ]
  },
  {
   "cell_type": "code",
   "execution_count": 59,
   "metadata": {},
   "outputs": [],
   "source": [
    "import random\n",
    "N_PRINT = 5\n",
    "\n",
    "\"\"\"\n",
    "Sample n_print comments from the dictionary given in parameter and print the comment, class name and value from the dataset\n",
    "\"\"\"\n",
    "def sample_print_c_coeff(class_coeff_dict, df, n_print):\n",
    "    thresh_high_classes = {k:v for k, v in class_coeff_dict.items() if v >= THRESH_USELESS_HIGH}\n",
    "    thresh_low_classes = {k:v for k, v in class_coeff_dict.items() if v >= THRESH_USELESS_LOW and v < THRESH_USELESS_HIGH}\n",
    "\n",
    "\n",
    "    print_md(f\"Comments with **c_coeff >= {THRESH_USELESS_LOW} and < {THRESH_USELESS_HIGH}**\")\n",
    "    print(\"---------------------------------------------------------------------\")\n",
    "    __sample_print_comments__(thresh_low_classes, df=df, n_print=n_print)\n",
    "    print_md(f\"\\nComments with **c_coeff >= {THRESH_USELESS_HIGH}**\")\n",
    "    print(\"---------------------------------------------------------------------\")\n",
    "    __sample_print_comments__(thresh_high_classes, df=df, n_print=n_print)\n",
    "\n",
    "def __sample_print_comments__(class_coeff_dict, df, n_print):\n",
    "    for i in range(0, N_PRINT):\n",
    "        class_name, val = random.choice(list(class_coeff_dict.items()))\n",
    "\n",
    "        row = df.loc[df[\"class\"] == class_name]\n",
    "        comment = row['comment'].values[0]\n",
    "        print_md(f\"**Class** : *{class_name}*, **c_coeff = {val:.2f}**\")\n",
    "        print_md(f\"*{comment}*\")"
   ]
  },
  {
   "cell_type": "markdown",
   "metadata": {},
   "source": [
    "### Pipeline"
   ]
  },
  {
   "cell_type": "code",
   "execution_count": 60,
   "metadata": {},
   "outputs": [],
   "source": [
    "def pipeline(df, class_label, comments_label, experiment_label = \"\"):\n",
    "    df = df.copy()\n",
    "    df = prepare_dataset(df, [comments_label])\n",
    "    \n",
    "    # comments length metrics\n",
    "    comments = df[comments_label]\n",
    "    comments = [preprocess_comment(comment, stopwords=stopwords) for comment in comments]\n",
    "    \n",
    "    plot_hist_comments_len(comments, title_additional_info=experiment_label)\n",
    "    print_comment_length_metrics(comments)\n",
    "    \n",
    "    # reading indices values\n",
    "    indices_values = compute_reading_ease_metrics(df[comments_label])\n",
    "    plot_indices_values(indices_values, experiment_label)\n",
    "    \n",
    "    # class_coeff_metrics\n",
    "    class_coeff_dict = compute_c_coeff(df[comments_label], df[class_label], class_names_splitter=camel_case_splitter, stopwords=stopwords)\n",
    "    plot_c_coeffs(class_coeff_dict, experiment_label)\n",
    "    print_c_coeffs_metrics(class_coeff_dict, thresh_high=THRESH_USELESS_HIGH, thresh_low=THRESH_USELESS_LOW)\n",
    "    sample_print_c_coeff(class_coeff_dict=class_coeff_dict, df=df, n_print=N_PRINT)"
   ]
  },
  {
   "cell_type": "markdown",
   "metadata": {},
   "source": [
    "## Pharo comments"
   ]
  },
  {
   "cell_type": "code",
   "execution_count": 66,
   "metadata": {},
   "outputs": [
    {
     "data": {
      "text/html": [
       "<div>\n",
       "<style scoped>\n",
       "    .dataframe tbody tr th:only-of-type {\n",
       "        vertical-align: middle;\n",
       "    }\n",
       "\n",
       "    .dataframe tbody tr th {\n",
       "        vertical-align: top;\n",
       "    }\n",
       "\n",
       "    .dataframe thead th {\n",
       "        text-align: right;\n",
       "    }\n",
       "</style>\n",
       "<table border=\"1\" class=\"dataframe\">\n",
       "  <thead>\n",
       "    <tr style=\"text-align: right;\">\n",
       "      <th></th>\n",
       "      <th>class</th>\n",
       "      <th>comment</th>\n",
       "    </tr>\n",
       "  </thead>\n",
       "  <tbody>\n",
       "    <tr>\n",
       "      <th>0</th>\n",
       "      <td>AColorSelectorMorph</td>\n",
       "      <td>ColorComponentSelector showing an alpha gradie...</td>\n",
       "    </tr>\n",
       "    <tr>\n",
       "      <th>1</th>\n",
       "      <td>ASTCache</td>\n",
       "      <td>I am a simple cache for AST nodes correspondin...</td>\n",
       "    </tr>\n",
       "    <tr>\n",
       "      <th>2</th>\n",
       "      <td>ASTCacheReset</td>\n",
       "      <td>Announcement signaled to tell that the default...</td>\n",
       "    </tr>\n",
       "    <tr>\n",
       "      <th>3</th>\n",
       "      <td>ASTCacheResetTest</td>\n",
       "      <td>NaN</td>\n",
       "    </tr>\n",
       "    <tr>\n",
       "      <th>4</th>\n",
       "      <td>ASTEvaluationTest</td>\n",
       "      <td>I am testing AST evaluation</td>\n",
       "    </tr>\n",
       "  </tbody>\n",
       "</table>\n",
       "</div>"
      ],
      "text/plain": [
       "                 class                                            comment\n",
       "0  AColorSelectorMorph  ColorComponentSelector showing an alpha gradie...\n",
       "1             ASTCache  I am a simple cache for AST nodes correspondin...\n",
       "2        ASTCacheReset  Announcement signaled to tell that the default...\n",
       "3    ASTCacheResetTest                                                NaN\n",
       "4    ASTEvaluationTest                       I am testing AST evaluation "
      ]
     },
     "execution_count": 66,
     "metadata": {},
     "output_type": "execute_result"
    }
   ],
   "source": [
    "DATASET_FILE = 'data/pharo/class_comments_pharo.csv'\n",
    "\n",
    "dataset = pd.read_csv(DATASET_FILE, header=None, names=['class', 'comment'])\n",
    "\n",
    "dataset.head(5)"
   ]
  },
  {
   "cell_type": "code",
   "execution_count": 37,
   "metadata": {},
   "outputs": [
    {
     "name": "stdout",
     "output_type": "stream",
     "text": [
      "Dataset length before preprocessing : 7863\n",
      "Dataset length after preprocessing : 7758\n"
     ]
    }
   ],
   "source": [
    "df = dataset.copy()\n",
    "print(f\"Dataset length before preprocessing : {len(df)}\")\n",
    "df = prepare_dataset(df, ['comment'])\n",
    "print(f\"Dataset length after preprocessing : {len(df)}\")"
   ]
  },
  {
   "cell_type": "code",
   "execution_count": 38,
   "metadata": {},
   "outputs": [],
   "source": [
    "comments = df[\"comment\"]\n",
    "comments = [preprocess_comment(comment, stopwords=stopwords) for comment in comments]"
   ]
  },
  {
   "cell_type": "code",
   "execution_count": 39,
   "metadata": {},
   "outputs": [
    {
     "data": {
      "image/png": "[encoded data removed]",
      "text/plain": [
       "<Figure size 432x288 with 1 Axes>"
      ]
     },
     "metadata": {
      "needs_background": "light"
     },
     "output_type": "display_data"
    },
    {
     "data": {
      "text/markdown": [
       "Total number of comments : **7758**\n"
      ],
      "text/plain": [
       "<IPython.core.display.Markdown object>"
      ]
     },
     "metadata": {},
     "output_type": "display_data"
    },
    {
     "data": {
      "text/markdown": [
       "Number of empty comments : **1541** **(19.9 %)**"
      ],
      "text/plain": [
       "<IPython.core.display.Markdown object>"
      ]
     },
     "metadata": {},
     "output_type": "display_data"
    },
    {
     "data": {
      "text/markdown": [
       "Number of comments with less than **3** words (and **not empty**) : **196**  (**2.5 %**)"
      ],
      "text/plain": [
       "<IPython.core.display.Markdown object>"
      ]
     },
     "metadata": {},
     "output_type": "display_data"
    },
    {
     "data": {
      "text/markdown": [
       "Average comment length (excluding empty ones) : **18** words, median : **9**"
      ],
      "text/plain": [
       "<IPython.core.display.Markdown object>"
      ]
     },
     "metadata": {},
     "output_type": "display_data"
    }
   ],
   "source": [
    "plot_hist_comments_len(comments, title_additional_info=\"pharo\")\n",
    "print_comment_length_metrics(comments)"
   ]
  },
  {
   "cell_type": "code",
   "execution_count": 40,
   "metadata": {},
   "outputs": [
    {
     "data": {
      "application/vnd.jupyter.widget-view+json": {
       "model_id": "cc3b5a31d7904c6ea32ff8f86f81a6fc",
       "version_major": 2,
       "version_minor": 0
      },
      "text/plain": [
       "HBox(children=(HTML(value=''), FloatProgress(value=0.0, max=7758.0), HTML(value='')))"
      ]
     },
     "metadata": {},
     "output_type": "display_data"
    },
    {
     "name": "stdout",
     "output_type": "stream",
     "text": [
      "\n"
     ]
    },
    {
     "data": {
      "image/png": "[encoded data removed]",
      "text/plain": [
       "<Figure size 432x288 with 1 Axes>"
      ]
     },
     "metadata": {
      "needs_background": "light"
     },
     "output_type": "display_data"
    },
    {
     "data": {
      "image/png": "[encoded data removed]",
      "text/plain": [
       "<Figure size 432x288 with 1 Axes>"
      ]
     },
     "metadata": {
      "needs_background": "light"
     },
     "output_type": "display_data"
    },
    {
     "data": {
      "image/png": "[encoded data removed]",
      "text/plain": [
       "<Figure size 432x288 with 1 Axes>"
      ]
     },
     "metadata": {
      "needs_background": "light"
     },
     "output_type": "display_data"
    }
   ],
   "source": [
    "indices_values = compute_reading_ease_metrics(df[\"comment\"])\n",
    "plot_indices_values(indices_values, \"pharo\")"
   ]
  },
  {
   "cell_type": "code",
   "execution_count": 41,
   "metadata": {},
   "outputs": [
    {
     "data": {
      "application/vnd.jupyter.widget-view+json": {
       "model_id": "de16a9caa4444841852cb093a3adfe56",
       "version_major": 2,
       "version_minor": 0
      },
      "text/plain": [
       "HBox(children=(HTML(value=''), FloatProgress(value=1.0, bar_style='info', layout=Layout(width='20px'), max=1.0…"
      ]
     },
     "metadata": {},
     "output_type": "display_data"
    },
    {
     "name": "stdout",
     "output_type": "stream",
     "text": [
      "\n"
     ]
    },
    {
     "data": {
      "image/png": "[encoded data removed]",
      "text/plain": [
       "<Figure size 432x288 with 1 Axes>"
      ]
     },
     "metadata": {
      "needs_background": "light"
     },
     "output_type": "display_data"
    },
    {
     "data": {
      "text/markdown": [
       "Number of **non-empty** comments : **6217**\n"
      ],
      "text/plain": [
       "<IPython.core.display.Markdown object>"
      ]
     },
     "metadata": {},
     "output_type": "display_data"
    },
    {
     "data": {
      "text/markdown": [
       "Number of comments with **c_coeff = 0** (completely dissimilar) : **662 (10.65) %**"
      ],
      "text/plain": [
       "<IPython.core.display.Markdown object>"
      ]
     },
     "metadata": {},
     "output_type": "display_data"
    },
    {
     "data": {
      "text/markdown": [
       "Number of comments with **c_coeff >= 0.5** (quite similar) : **1051 (16.91) %**"
      ],
      "text/plain": [
       "<IPython.core.display.Markdown object>"
      ]
     },
     "metadata": {},
     "output_type": "display_data"
    },
    {
     "data": {
      "text/markdown": [
       "Number of comments with **c_coeff >= 0.75** (really similar) : **312 (5.02) %**"
      ],
      "text/plain": [
       "<IPython.core.display.Markdown object>"
      ]
     },
     "metadata": {},
     "output_type": "display_data"
    },
    {
     "data": {
      "text/markdown": [
       "Comments with **c_coeff >= 0.5 and < 0.75**"
      ],
      "text/plain": [
       "<IPython.core.display.Markdown object>"
      ]
     },
     "metadata": {},
     "output_type": "display_data"
    },
    {
     "name": "stdout",
     "output_type": "stream",
     "text": [
      "---------------------------------------------------------------------\n"
     ]
    },
    {
     "data": {
      "text/markdown": [
       "**Class** : *MetalinkChanged*, **c_coeff = 0.67**"
      ],
      "text/plain": [
       "<IPython.core.display.Markdown object>"
      ]
     },
     "metadata": {},
     "output_type": "display_data"
    },
    {
     "data": {
      "text/markdown": [
       "*Announce that a metalink changed*"
      ],
      "text/plain": [
       "<IPython.core.display.Markdown object>"
      ]
     },
     "metadata": {},
     "output_type": "display_data"
    },
    {
     "data": {
      "text/markdown": [
       "**Class** : *ManifestSystemCommandLine*, **c_coeff = 0.50**"
      ],
      "text/plain": [
       "<IPython.core.display.Markdown object>"
      ]
     },
     "metadata": {},
     "output_type": "display_data"
    },
    {
     "data": {
      "text/markdown": [
       "*Terminal / Command line support*"
      ],
      "text/plain": [
       "<IPython.core.display.Markdown object>"
      ]
     },
     "metadata": {},
     "output_type": "display_data"
    },
    {
     "data": {
      "text/markdown": [
       "**Class** : *GLMPopupBrickOutisideClickPredicate*, **c_coeff = 0.60**"
      ],
      "text/plain": [
       "<IPython.core.display.Markdown object>"
      ]
     },
     "metadata": {},
     "output_type": "display_data"
    },
    {
     "data": {
      "text/markdown": [
       "*I am activated when user clicks outside of a popup*"
      ],
      "text/plain": [
       "<IPython.core.display.Markdown object>"
      ]
     },
     "metadata": {},
     "output_type": "display_data"
    },
    {
     "data": {
      "text/markdown": [
       "**Class** : *IcePackageUnloaded*, **c_coeff = 0.67**"
      ],
      "text/plain": [
       "<IPython.core.display.Markdown object>"
      ]
     },
     "metadata": {},
     "output_type": "display_data"
    },
    {
     "data": {
      "text/markdown": [
       "*I announce when a package has been unloaded.*"
      ],
      "text/plain": [
       "<IPython.core.display.Markdown object>"
      ]
     },
     "metadata": {},
     "output_type": "display_data"
    },
    {
     "data": {
      "text/markdown": [
       "**Class** : *EyeMethodEditor*, **c_coeff = 0.50**"
      ],
      "text/plain": [
       "<IPython.core.display.Markdown object>"
      ]
     },
     "metadata": {},
     "output_type": "display_data"
    },
    {
     "data": {
      "text/markdown": [
       "*A simple editor for complied methods.*"
      ],
      "text/plain": [
       "<IPython.core.display.Markdown object>"
      ]
     },
     "metadata": {},
     "output_type": "display_data"
    },
    {
     "data": {
      "text/markdown": [
       "\n",
       "Comments with **c_coeff >= 0.75**"
      ],
      "text/plain": [
       "<IPython.core.display.Markdown object>"
      ]
     },
     "metadata": {},
     "output_type": "display_data"
    },
    {
     "name": "stdout",
     "output_type": "stream",
     "text": [
      "---------------------------------------------------------------------\n"
     ]
    },
    {
     "data": {
      "text/markdown": [
       "**Class** : *IceTipHistoryActionBrowser*, **c_coeff = 0.75**"
      ],
      "text/plain": [
       "<IPython.core.display.Markdown object>"
      ]
     },
     "metadata": {},
     "output_type": "display_data"
    },
    {
     "data": {
      "text/markdown": [
       "*I'm a base browser for pull/push action browser.*"
      ],
      "text/plain": [
       "<IPython.core.display.Markdown object>"
      ]
     },
     "metadata": {},
     "output_type": "display_data"
    },
    {
     "data": {
      "text/markdown": [
       "**Class** : *ManifestNewValueHolder*, **c_coeff = 0.75**"
      ],
      "text/plain": [
       "<IPython.core.display.Markdown object>"
      ]
     },
     "metadata": {},
     "output_type": "display_data"
    },
    {
     "data": {
      "text/markdown": [
       "*Implementation for a new value holder*"
      ],
      "text/plain": [
       "<IPython.core.display.Markdown object>"
      ]
     },
     "metadata": {},
     "output_type": "display_data"
    },
    {
     "data": {
      "text/markdown": [
       "**Class** : *SimpleTextGlyphInfo*, **c_coeff = 1.00**"
      ],
      "text/plain": [
       "<IPython.core.display.Markdown object>"
      ]
     },
     "metadata": {},
     "output_type": "display_data"
    },
    {
     "data": {
      "text/markdown": [
       "*Simple glyph infos*"
      ],
      "text/plain": [
       "<IPython.core.display.Markdown object>"
      ]
     },
     "metadata": {},
     "output_type": "display_data"
    },
    {
     "data": {
      "text/markdown": [
       "**Class** : *ShAbstractClassBuilderTest*, **c_coeff = 0.86**"
      ],
      "text/plain": [
       "<IPython.core.display.Markdown object>"
      ]
     },
     "metadata": {},
     "output_type": "display_data"
    },
    {
     "data": {
      "text/markdown": [
       "*Abstract Test class for the Shift Class Builder tests*"
      ],
      "text/plain": [
       "<IPython.core.display.Markdown object>"
      ]
     },
     "metadata": {},
     "output_type": "display_data"
    },
    {
     "data": {
      "text/markdown": [
       "**Class** : *RPackageTraitSynchronisationTest*, **c_coeff = 0.80**"
      ],
      "text/plain": [
       "<IPython.core.display.Markdown object>"
      ]
     },
     "metadata": {},
     "output_type": "display_data"
    },
    {
     "data": {
      "text/markdown": [
       "*SUnit tests for RPackage trait synchronization\r",
       "*"
      ],
      "text/plain": [
       "<IPython.core.display.Markdown object>"
      ]
     },
     "metadata": {},
     "output_type": "display_data"
    }
   ],
   "source": [
    "class_coeff_dict = compute_c_coeff(df[\"comment\"], df[\"class\"], class_names_splitter=camel_case_splitter, stopwords=stopwords)\n",
    "plot_c_coeffs(class_coeff_dict, 'pharo')\n",
    "print_c_coeffs_metrics(class_coeff_dict, thresh_high=THRESH_USELESS_HIGH, thresh_low=THRESH_USELESS_LOW)\n",
    "sample_print_c_coeff(class_coeff_dict=class_coeff_dict, df=df, n_print=N_PRINT)"
   ]
  },
  {
   "cell_type": "markdown",
   "metadata": {},
   "source": [
    "## Python comments"
   ]
  },
  {
   "cell_type": "code",
   "execution_count": 42,
   "metadata": {},
   "outputs": [],
   "source": [
    "import os\n",
    "DATA_PATH = 'data/python/'"
   ]
  },
  {
   "cell_type": "code",
   "execution_count": 65,
   "metadata": {},
   "outputs": [
    {
     "name": "stdout",
     "output_type": "stream",
     "text": [
      "Dataset length before preprocessing : 16211\n"
     ]
    },
    {
     "ename": "ValueError",
     "evalue": "Shape of passed values is (50093, 7), indices imply (16211, 7)",
     "output_type": "error",
     "traceback": [
      "\u001b[1;31m---------------------------------------------------------------------------\u001b[0m",
      "\u001b[1;31mValueError\u001b[0m                                Traceback (most recent call last)",
      "\u001b[1;32m<ipython-input-65-1103726399ec>\u001b[0m in \u001b[0;36m<module>\u001b[1;34m\u001b[0m\n\u001b[0;32m     14\u001b[0m \u001b[1;33m\u001b[0m\u001b[0m\n\u001b[0;32m     15\u001b[0m     \u001b[0mds\u001b[0m\u001b[1;33m.\u001b[0m\u001b[0mhead\u001b[0m\u001b[1;33m(\u001b[0m\u001b[1;33m)\u001b[0m\u001b[1;33m\u001b[0m\u001b[1;33m\u001b[0m\u001b[0m\n\u001b[1;32m---> 16\u001b[1;33m     \u001b[0mpipeline\u001b[0m\u001b[1;33m(\u001b[0m\u001b[0mpython_datasets_dict\u001b[0m\u001b[1;33m[\u001b[0m\u001b[1;34m'python'\u001b[0m\u001b[1;33m]\u001b[0m\u001b[1;33m,\u001b[0m \u001b[1;34m\"className\"\u001b[0m\u001b[1;33m,\u001b[0m \u001b[1;34m\"classComment\"\u001b[0m\u001b[1;33m,\u001b[0m \u001b[1;34m\"python\"\u001b[0m\u001b[1;33m)\u001b[0m\u001b[1;33m\u001b[0m\u001b[1;33m\u001b[0m\u001b[0m\n\u001b[0m",
      "\u001b[1;32m<ipython-input-60-3efbbbd212fe>\u001b[0m in \u001b[0;36mpipeline\u001b[1;34m(df, class_label, comments_label, experiment_label)\u001b[0m\n\u001b[0;32m      2\u001b[0m     \u001b[0mdf\u001b[0m \u001b[1;33m=\u001b[0m \u001b[0mdf\u001b[0m\u001b[1;33m.\u001b[0m\u001b[0mcopy\u001b[0m\u001b[1;33m(\u001b[0m\u001b[1;33m)\u001b[0m\u001b[1;33m\u001b[0m\u001b[1;33m\u001b[0m\u001b[0m\n\u001b[0;32m      3\u001b[0m \u001b[1;33m\u001b[0m\u001b[0m\n\u001b[1;32m----> 4\u001b[1;33m     \u001b[0mdf\u001b[0m \u001b[1;33m=\u001b[0m \u001b[0mprepare_dataset\u001b[0m\u001b[1;33m(\u001b[0m\u001b[0mdf\u001b[0m\u001b[1;33m,\u001b[0m \u001b[1;33m[\u001b[0m\u001b[0mcomments_label\u001b[0m\u001b[1;33m]\u001b[0m\u001b[1;33m)\u001b[0m\u001b[1;33m\u001b[0m\u001b[1;33m\u001b[0m\u001b[0m\n\u001b[0m\u001b[0;32m      5\u001b[0m \u001b[1;33m\u001b[0m\u001b[0m\n\u001b[0;32m      6\u001b[0m     \u001b[1;31m# comments length metrics\u001b[0m\u001b[1;33m\u001b[0m\u001b[1;33m\u001b[0m\u001b[1;33m\u001b[0m\u001b[0m\n",
      "\u001b[1;32m<ipython-input-62-2f00a610cf81>\u001b[0m in \u001b[0;36mprepare_dataset\u001b[1;34m(df, columns)\u001b[0m\n\u001b[0;32m     28\u001b[0m \u001b[1;33m\u001b[0m\u001b[0m\n\u001b[0;32m     29\u001b[0m \u001b[1;33m\u001b[0m\u001b[0m\n\u001b[1;32m---> 30\u001b[1;33m         \u001b[0mfilt_df\u001b[0m \u001b[1;33m=\u001b[0m \u001b[0mpd\u001b[0m\u001b[1;33m.\u001b[0m\u001b[0mconcat\u001b[0m\u001b[1;33m(\u001b[0m\u001b[1;33m[\u001b[0m\u001b[0mfilt_df\u001b[0m\u001b[1;33m,\u001b[0m \u001b[0ms\u001b[0m\u001b[1;33m]\u001b[0m\u001b[1;33m,\u001b[0m \u001b[0maxis\u001b[0m\u001b[1;33m=\u001b[0m\u001b[1;36m1\u001b[0m\u001b[1;33m)\u001b[0m\u001b[1;33m\u001b[0m\u001b[1;33m\u001b[0m\u001b[0m\n\u001b[0m\u001b[0;32m     31\u001b[0m         \u001b[0mfilt_df\u001b[0m\u001b[1;33m.\u001b[0m\u001b[0mdropna\u001b[0m\u001b[1;33m(\u001b[0m\u001b[0minplace\u001b[0m\u001b[1;33m=\u001b[0m\u001b[1;32mTrue\u001b[0m\u001b[1;33m)\u001b[0m\u001b[1;33m\u001b[0m\u001b[1;33m\u001b[0m\u001b[0m\n\u001b[0;32m     32\u001b[0m \u001b[1;33m\u001b[0m\u001b[0m\n",
      "\u001b[1;32mc:\\users\\ludo\\documents\\school\\a2020\\seminar_software_comp\\sc-seminar-comment-quality-pharo\\venv\\lib\\site-packages\\pandas\\core\\reshape\\concat.py\u001b[0m in \u001b[0;36mconcat\u001b[1;34m(objs, axis, join, ignore_index, keys, levels, names, verify_integrity, sort, copy)\u001b[0m\n\u001b[0;32m    285\u001b[0m     )\n\u001b[0;32m    286\u001b[0m \u001b[1;33m\u001b[0m\u001b[0m\n\u001b[1;32m--> 287\u001b[1;33m     \u001b[1;32mreturn\u001b[0m \u001b[0mop\u001b[0m\u001b[1;33m.\u001b[0m\u001b[0mget_result\u001b[0m\u001b[1;33m(\u001b[0m\u001b[1;33m)\u001b[0m\u001b[1;33m\u001b[0m\u001b[1;33m\u001b[0m\u001b[0m\n\u001b[0m\u001b[0;32m    288\u001b[0m \u001b[1;33m\u001b[0m\u001b[0m\n\u001b[0;32m    289\u001b[0m \u001b[1;33m\u001b[0m\u001b[0m\n",
      "\u001b[1;32mc:\\users\\ludo\\documents\\school\\a2020\\seminar_software_comp\\sc-seminar-comment-quality-pharo\\venv\\lib\\site-packages\\pandas\\core\\reshape\\concat.py\u001b[0m in \u001b[0;36mget_result\u001b[1;34m(self)\u001b[0m\n\u001b[0;32m    501\u001b[0m \u001b[1;33m\u001b[0m\u001b[0m\n\u001b[0;32m    502\u001b[0m             new_data = concatenate_block_managers(\n\u001b[1;32m--> 503\u001b[1;33m                 \u001b[0mmgrs_indexers\u001b[0m\u001b[1;33m,\u001b[0m \u001b[0mself\u001b[0m\u001b[1;33m.\u001b[0m\u001b[0mnew_axes\u001b[0m\u001b[1;33m,\u001b[0m \u001b[0mconcat_axis\u001b[0m\u001b[1;33m=\u001b[0m\u001b[0mself\u001b[0m\u001b[1;33m.\u001b[0m\u001b[0mbm_axis\u001b[0m\u001b[1;33m,\u001b[0m \u001b[0mcopy\u001b[0m\u001b[1;33m=\u001b[0m\u001b[0mself\u001b[0m\u001b[1;33m.\u001b[0m\u001b[0mcopy\u001b[0m\u001b[1;33m,\u001b[0m\u001b[1;33m\u001b[0m\u001b[1;33m\u001b[0m\u001b[0m\n\u001b[0m\u001b[0;32m    504\u001b[0m             )\n\u001b[0;32m    505\u001b[0m             \u001b[1;32mif\u001b[0m \u001b[1;32mnot\u001b[0m \u001b[0mself\u001b[0m\u001b[1;33m.\u001b[0m\u001b[0mcopy\u001b[0m\u001b[1;33m:\u001b[0m\u001b[1;33m\u001b[0m\u001b[1;33m\u001b[0m\u001b[0m\n",
      "\u001b[1;32mc:\\users\\ludo\\documents\\school\\a2020\\seminar_software_comp\\sc-seminar-comment-quality-pharo\\venv\\lib\\site-packages\\pandas\\core\\internals\\concat.py\u001b[0m in \u001b[0;36mconcatenate_block_managers\u001b[1;34m(mgrs_indexers, axes, concat_axis, copy)\u001b[0m\n\u001b[0;32m     82\u001b[0m         \u001b[0mblocks\u001b[0m\u001b[1;33m.\u001b[0m\u001b[0mappend\u001b[0m\u001b[1;33m(\u001b[0m\u001b[0mb\u001b[0m\u001b[1;33m)\u001b[0m\u001b[1;33m\u001b[0m\u001b[1;33m\u001b[0m\u001b[0m\n\u001b[0;32m     83\u001b[0m \u001b[1;33m\u001b[0m\u001b[0m\n\u001b[1;32m---> 84\u001b[1;33m     \u001b[1;32mreturn\u001b[0m \u001b[0mBlockManager\u001b[0m\u001b[1;33m(\u001b[0m\u001b[0mblocks\u001b[0m\u001b[1;33m,\u001b[0m \u001b[0maxes\u001b[0m\u001b[1;33m)\u001b[0m\u001b[1;33m\u001b[0m\u001b[1;33m\u001b[0m\u001b[0m\n\u001b[0m\u001b[0;32m     85\u001b[0m \u001b[1;33m\u001b[0m\u001b[0m\n\u001b[0;32m     86\u001b[0m \u001b[1;33m\u001b[0m\u001b[0m\n",
      "\u001b[1;32mc:\\users\\ludo\\documents\\school\\a2020\\seminar_software_comp\\sc-seminar-comment-quality-pharo\\venv\\lib\\site-packages\\pandas\\core\\internals\\managers.py\u001b[0m in \u001b[0;36m__init__\u001b[1;34m(self, blocks, axes, do_integrity_check)\u001b[0m\n\u001b[0;32m    147\u001b[0m \u001b[1;33m\u001b[0m\u001b[0m\n\u001b[0;32m    148\u001b[0m         \u001b[1;32mif\u001b[0m \u001b[0mdo_integrity_check\u001b[0m\u001b[1;33m:\u001b[0m\u001b[1;33m\u001b[0m\u001b[1;33m\u001b[0m\u001b[0m\n\u001b[1;32m--> 149\u001b[1;33m             \u001b[0mself\u001b[0m\u001b[1;33m.\u001b[0m\u001b[0m_verify_integrity\u001b[0m\u001b[1;33m(\u001b[0m\u001b[1;33m)\u001b[0m\u001b[1;33m\u001b[0m\u001b[1;33m\u001b[0m\u001b[0m\n\u001b[0m\u001b[0;32m    150\u001b[0m \u001b[1;33m\u001b[0m\u001b[0m\n\u001b[0;32m    151\u001b[0m         \u001b[1;31m# Populate known_consolidate, blknos, and blklocs lazily\u001b[0m\u001b[1;33m\u001b[0m\u001b[1;33m\u001b[0m\u001b[1;33m\u001b[0m\u001b[0m\n",
      "\u001b[1;32mc:\\users\\ludo\\documents\\school\\a2020\\seminar_software_comp\\sc-seminar-comment-quality-pharo\\venv\\lib\\site-packages\\pandas\\core\\internals\\managers.py\u001b[0m in \u001b[0;36m_verify_integrity\u001b[1;34m(self)\u001b[0m\n\u001b[0;32m    324\u001b[0m         \u001b[1;32mfor\u001b[0m \u001b[0mblock\u001b[0m \u001b[1;32min\u001b[0m \u001b[0mself\u001b[0m\u001b[1;33m.\u001b[0m\u001b[0mblocks\u001b[0m\u001b[1;33m:\u001b[0m\u001b[1;33m\u001b[0m\u001b[1;33m\u001b[0m\u001b[0m\n\u001b[0;32m    325\u001b[0m             \u001b[1;32mif\u001b[0m \u001b[0mblock\u001b[0m\u001b[1;33m.\u001b[0m\u001b[0mshape\u001b[0m\u001b[1;33m[\u001b[0m\u001b[1;36m1\u001b[0m\u001b[1;33m:\u001b[0m\u001b[1;33m]\u001b[0m \u001b[1;33m!=\u001b[0m \u001b[0mmgr_shape\u001b[0m\u001b[1;33m[\u001b[0m\u001b[1;36m1\u001b[0m\u001b[1;33m:\u001b[0m\u001b[1;33m]\u001b[0m\u001b[1;33m:\u001b[0m\u001b[1;33m\u001b[0m\u001b[1;33m\u001b[0m\u001b[0m\n\u001b[1;32m--> 326\u001b[1;33m                 \u001b[1;32mraise\u001b[0m \u001b[0mconstruction_error\u001b[0m\u001b[1;33m(\u001b[0m\u001b[0mtot_items\u001b[0m\u001b[1;33m,\u001b[0m \u001b[0mblock\u001b[0m\u001b[1;33m.\u001b[0m\u001b[0mshape\u001b[0m\u001b[1;33m[\u001b[0m\u001b[1;36m1\u001b[0m\u001b[1;33m:\u001b[0m\u001b[1;33m]\u001b[0m\u001b[1;33m,\u001b[0m \u001b[0mself\u001b[0m\u001b[1;33m.\u001b[0m\u001b[0maxes\u001b[0m\u001b[1;33m)\u001b[0m\u001b[1;33m\u001b[0m\u001b[1;33m\u001b[0m\u001b[0m\n\u001b[0m\u001b[0;32m    327\u001b[0m         \u001b[1;32mif\u001b[0m \u001b[0mlen\u001b[0m\u001b[1;33m(\u001b[0m\u001b[0mself\u001b[0m\u001b[1;33m.\u001b[0m\u001b[0mitems\u001b[0m\u001b[1;33m)\u001b[0m \u001b[1;33m!=\u001b[0m \u001b[0mtot_items\u001b[0m\u001b[1;33m:\u001b[0m\u001b[1;33m\u001b[0m\u001b[1;33m\u001b[0m\u001b[0m\n\u001b[0;32m    328\u001b[0m             raise AssertionError(\n",
      "\u001b[1;31mValueError\u001b[0m: Shape of passed values is (50093, 7), indices imply (16211, 7)"
     ]
    }
   ],
   "source": [
    "python_datasets_dict = {}\n",
    "MERGE_DATASETS = True\n",
    "\n",
    "\n",
    "for filename in os.listdir(DATA_PATH):\n",
    "    df = pd.read_csv(f\"{DATA_PATH}{filename}\")\n",
    "    # find the dot at the end and slice to remove the extension to create the label (EG pipenv, django, etc.)\n",
    "    dataset_label = filename[:filename.rfind('.')]\n",
    "    python_datasets_dict[dataset_label] = df\n",
    "\n",
    "if MERGE_DATASETS:\n",
    "    ds = pd.concat(python_datasets_dict.values())\n",
    "    python_datasets_dict = {'python':ds}  \n",
    "    \n",
    "    ds.head()\n",
    "    pipeline(python_datasets_dict['python'], \"className\", \"classComment\", \"python\")"
   ]
  },
  {
   "cell_type": "markdown",
   "metadata": {},
   "source": [
    "### Comments length"
   ]
  },
  {
   "cell_type": "code",
   "execution_count": 25,
   "metadata": {},
   "outputs": [
    {
     "name": "stdout",
     "output_type": "stream",
     "text": [
      "For dataset of comments from : python\n",
      "-----------------------------------------------------\n"
     ]
    },
    {
     "data": {
      "text/markdown": [
       "Total number of comments : **16211**\n"
      ],
      "text/plain": [
       "<IPython.core.display.Markdown object>"
      ]
     },
     "metadata": {},
     "output_type": "display_data"
    },
    {
     "data": {
      "text/markdown": [
       "Number of empty comments : **12455** **(76.8 %)**"
      ],
      "text/plain": [
       "<IPython.core.display.Markdown object>"
      ]
     },
     "metadata": {},
     "output_type": "display_data"
    },
    {
     "data": {
      "text/markdown": [
       "Number of comments with less than **3** words (and **not empty**) : **207**  (**1.3 %**)"
      ],
      "text/plain": [
       "<IPython.core.display.Markdown object>"
      ]
     },
     "metadata": {},
     "output_type": "display_data"
    },
    {
     "data": {
      "text/markdown": [
       "Average comment length (excluding empty ones) : **22** words, median : **7**"
      ],
      "text/plain": [
       "<IPython.core.display.Markdown object>"
      ]
     },
     "metadata": {},
     "output_type": "display_data"
    },
    {
     "data": {
      "image/png": "[encoded data removed]",
      "text/plain": [
       "<Figure size 432x288 with 1 Axes>"
      ]
     },
     "metadata": {
      "needs_background": "light"
     },
     "output_type": "display_data"
    }
   ],
   "source": [
    "%matplotlib inline\n",
    "\n",
    "# TODO : remove outlier(s)\n",
    "for label in python_datasets_dict.keys():\n",
    "    df = python_datasets_dict[label].copy()\n",
    "    \n",
    "    print(f\"For dataset of comments from : {label}\")\n",
    "    print(\"-----------------------------------------------------\")\n",
    "    \n",
    "    comments = df[\"classComment\"]\n",
    "    \n",
    "    comments_len = (map(lambda c: len(c), comments))\n",
    "    comments = [preprocess_comment(comment, stopwords=stopwords) for comment in comments]\n",
    "    \n",
    "    print_comment_length_metrics(comments)\n",
    "    plot_hist_comments_len(comments, title_additional_info=label)\n",
    "    "
   ]
  },
  {
   "cell_type": "markdown",
   "metadata": {},
   "source": [
    "### Readability indices"
   ]
  },
  {
   "cell_type": "code",
   "execution_count": 26,
   "metadata": {},
   "outputs": [
    {
     "data": {
      "application/vnd.jupyter.widget-view+json": {
       "model_id": "8fd7c7dda263422ebdc41f36f6d00564",
       "version_major": 2,
       "version_minor": 0
      },
      "text/plain": [
       "HBox(children=(HTML(value=''), FloatProgress(value=0.0, max=16211.0), HTML(value='')))"
      ]
     },
     "metadata": {},
     "output_type": "display_data"
    },
    {
     "name": "stdout",
     "output_type": "stream",
     "text": [
      "\n"
     ]
    },
    {
     "data": {
      "image/png": "[encoded data removed]",
      "text/plain": [
       "<Figure size 432x288 with 1 Axes>"
      ]
     },
     "metadata": {
      "needs_background": "light"
     },
     "output_type": "display_data"
    },
    {
     "data": {
      "image/png": "[encoded data removed]",
      "text/plain": [
       "<Figure size 432x288 with 1 Axes>"
      ]
     },
     "metadata": {
      "needs_background": "light"
     },
     "output_type": "display_data"
    },
    {
     "data": {
      "image/png": "[encoded data removed]",
      "text/plain": [
       "<Figure size 432x288 with 1 Axes>"
      ]
     },
     "metadata": {
      "needs_background": "light"
     },
     "output_type": "display_data"
    }
   ],
   "source": [
    "for label in python_datasets_dict.keys():\n",
    "    df = python_datasets_dict[label].copy()\n",
    "    comments = df[\"classComment\"]\n",
    "    indices_values = compute_reading_ease_metrics(comments)\n",
    "    plot_indices_values(indices_values=indices_values, title_additional_info=label)\n",
    "    \n",
    "    "
   ]
  },
  {
   "cell_type": "code",
   "execution_count": 27,
   "metadata": {},
   "outputs": [
    {
     "data": {
      "application/vnd.jupyter.widget-view+json": {
       "model_id": "3f82e040bd4446c197ad363fa418509a",
       "version_major": 2,
       "version_minor": 0
      },
      "text/plain": [
       "HBox(children=(HTML(value=''), FloatProgress(value=1.0, bar_style='info', layout=Layout(width='20px'), max=1.0…"
      ]
     },
     "metadata": {},
     "output_type": "display_data"
    },
    {
     "name": "stdout",
     "output_type": "stream",
     "text": [
      "\n"
     ]
    },
    {
     "data": {
      "text/markdown": [
       "Number of **non-empty** comments : **3093**\n"
      ],
      "text/plain": [
       "<IPython.core.display.Markdown object>"
      ]
     },
     "metadata": {},
     "output_type": "display_data"
    },
    {
     "data": {
      "text/markdown": [
       "Number of comments with **c_coeff = 0** (completely dissimilar) : **616 (19.92) %**"
      ],
      "text/plain": [
       "<IPython.core.display.Markdown object>"
      ]
     },
     "metadata": {},
     "output_type": "display_data"
    },
    {
     "data": {
      "text/markdown": [
       "Number of comments with **c_coeff >= 0.5** (quite similar) : **399 (12.90) %**"
      ],
      "text/plain": [
       "<IPython.core.display.Markdown object>"
      ]
     },
     "metadata": {},
     "output_type": "display_data"
    },
    {
     "data": {
      "text/markdown": [
       "Number of comments with **c_coeff >= 0.75** (really similar) : **82 (2.65) %**"
      ],
      "text/plain": [
       "<IPython.core.display.Markdown object>"
      ]
     },
     "metadata": {},
     "output_type": "display_data"
    },
    {
     "data": {
      "image/png": "[encoded data removed]",
      "text/plain": [
       "<Figure size 432x288 with 1 Axes>"
      ]
     },
     "metadata": {
      "needs_background": "light"
     },
     "output_type": "display_data"
    }
   ],
   "source": [
    "for label in python_datasets_dict.keys():\n",
    "    df = python_datasets_dict[label].copy()\n",
    "    \n",
    "    class_coeff_dict = compute_c_coeff(df[\"classComment\"], df[\"className\"], \n",
    "                                       class_names_splitter=camel_case_splitter, stopwords=stopwords)\n",
    "    \n",
    "    print_c_coeffs_metrics(class_coeff_dict, THRESH_USELESS_HIGH, THRESH_USELESS_LOW)\n",
    "    plot_c_coeffs(class_coeff_dict=class_coeff_dict, title_additional_info=label)"
   ]
  },
  {
   "cell_type": "code",
   "execution_count": 28,
   "metadata": {},
   "outputs": [
    {
     "ename": "ParserError",
     "evalue": "Error tokenizing data. C error: Expected 4 fields in line 567, saw 5\n",
     "output_type": "error",
     "traceback": [
      "\u001b[1;31m---------------------------------------------------------------------------\u001b[0m",
      "\u001b[1;31mParserError\u001b[0m                               Traceback (most recent call last)",
      "\u001b[1;32m<ipython-input-28-51ab6db78f9c>\u001b[0m in \u001b[0;36m<module>\u001b[1;34m\u001b[0m\n\u001b[0;32m      5\u001b[0m         print(f.readline())\"\"\"\n\u001b[0;32m      6\u001b[0m \u001b[1;33m\u001b[0m\u001b[0m\n\u001b[1;32m----> 7\u001b[1;33m \u001b[0mdf\u001b[0m \u001b[1;33m=\u001b[0m \u001b[0mpd\u001b[0m\u001b[1;33m.\u001b[0m\u001b[0mread_csv\u001b[0m\u001b[1;33m(\u001b[0m\u001b[0mPHARO_DS\u001b[0m\u001b[1;33m,\u001b[0m \u001b[0mheader\u001b[0m\u001b[1;33m=\u001b[0m\u001b[1;32mNone\u001b[0m\u001b[1;33m,\u001b[0m \u001b[0mdelimiter\u001b[0m\u001b[1;33m=\u001b[0m\u001b[1;34m','\u001b[0m\u001b[1;33m)\u001b[0m\u001b[1;33m\u001b[0m\u001b[1;33m\u001b[0m\u001b[0m\n\u001b[0m\u001b[0;32m      8\u001b[0m \u001b[1;33m\u001b[0m\u001b[0m\n\u001b[0;32m      9\u001b[0m \u001b[0mdf\u001b[0m\u001b[1;33m.\u001b[0m\u001b[0mhead\u001b[0m\u001b[1;33m(\u001b[0m\u001b[1;36m50\u001b[0m\u001b[1;33m)\u001b[0m\u001b[1;33m\u001b[0m\u001b[1;33m\u001b[0m\u001b[0m\n",
      "\u001b[1;32mc:\\users\\ludo\\documents\\school\\a2020\\seminar_software_comp\\sc-seminar-comment-quality-pharo\\venv\\lib\\site-packages\\pandas\\io\\parsers.py\u001b[0m in \u001b[0;36mread_csv\u001b[1;34m(filepath_or_buffer, sep, delimiter, header, names, index_col, usecols, squeeze, prefix, mangle_dupe_cols, dtype, engine, converters, true_values, false_values, skipinitialspace, skiprows, skipfooter, nrows, na_values, keep_default_na, na_filter, verbose, skip_blank_lines, parse_dates, infer_datetime_format, keep_date_col, date_parser, dayfirst, cache_dates, iterator, chunksize, compression, thousands, decimal, lineterminator, quotechar, quoting, doublequote, escapechar, comment, encoding, dialect, error_bad_lines, warn_bad_lines, delim_whitespace, low_memory, memory_map, float_precision)\u001b[0m\n\u001b[0;32m    684\u001b[0m     )\n\u001b[0;32m    685\u001b[0m \u001b[1;33m\u001b[0m\u001b[0m\n\u001b[1;32m--> 686\u001b[1;33m     \u001b[1;32mreturn\u001b[0m \u001b[0m_read\u001b[0m\u001b[1;33m(\u001b[0m\u001b[0mfilepath_or_buffer\u001b[0m\u001b[1;33m,\u001b[0m \u001b[0mkwds\u001b[0m\u001b[1;33m)\u001b[0m\u001b[1;33m\u001b[0m\u001b[1;33m\u001b[0m\u001b[0m\n\u001b[0m\u001b[0;32m    687\u001b[0m \u001b[1;33m\u001b[0m\u001b[0m\n\u001b[0;32m    688\u001b[0m \u001b[1;33m\u001b[0m\u001b[0m\n",
      "\u001b[1;32mc:\\users\\ludo\\documents\\school\\a2020\\seminar_software_comp\\sc-seminar-comment-quality-pharo\\venv\\lib\\site-packages\\pandas\\io\\parsers.py\u001b[0m in \u001b[0;36m_read\u001b[1;34m(filepath_or_buffer, kwds)\u001b[0m\n\u001b[0;32m    456\u001b[0m \u001b[1;33m\u001b[0m\u001b[0m\n\u001b[0;32m    457\u001b[0m     \u001b[1;32mtry\u001b[0m\u001b[1;33m:\u001b[0m\u001b[1;33m\u001b[0m\u001b[1;33m\u001b[0m\u001b[0m\n\u001b[1;32m--> 458\u001b[1;33m         \u001b[0mdata\u001b[0m \u001b[1;33m=\u001b[0m \u001b[0mparser\u001b[0m\u001b[1;33m.\u001b[0m\u001b[0mread\u001b[0m\u001b[1;33m(\u001b[0m\u001b[0mnrows\u001b[0m\u001b[1;33m)\u001b[0m\u001b[1;33m\u001b[0m\u001b[1;33m\u001b[0m\u001b[0m\n\u001b[0m\u001b[0;32m    459\u001b[0m     \u001b[1;32mfinally\u001b[0m\u001b[1;33m:\u001b[0m\u001b[1;33m\u001b[0m\u001b[1;33m\u001b[0m\u001b[0m\n\u001b[0;32m    460\u001b[0m         \u001b[0mparser\u001b[0m\u001b[1;33m.\u001b[0m\u001b[0mclose\u001b[0m\u001b[1;33m(\u001b[0m\u001b[1;33m)\u001b[0m\u001b[1;33m\u001b[0m\u001b[1;33m\u001b[0m\u001b[0m\n",
      "\u001b[1;32mc:\\users\\ludo\\documents\\school\\a2020\\seminar_software_comp\\sc-seminar-comment-quality-pharo\\venv\\lib\\site-packages\\pandas\\io\\parsers.py\u001b[0m in \u001b[0;36mread\u001b[1;34m(self, nrows)\u001b[0m\n\u001b[0;32m   1194\u001b[0m     \u001b[1;32mdef\u001b[0m \u001b[0mread\u001b[0m\u001b[1;33m(\u001b[0m\u001b[0mself\u001b[0m\u001b[1;33m,\u001b[0m \u001b[0mnrows\u001b[0m\u001b[1;33m=\u001b[0m\u001b[1;32mNone\u001b[0m\u001b[1;33m)\u001b[0m\u001b[1;33m:\u001b[0m\u001b[1;33m\u001b[0m\u001b[1;33m\u001b[0m\u001b[0m\n\u001b[0;32m   1195\u001b[0m         \u001b[0mnrows\u001b[0m \u001b[1;33m=\u001b[0m \u001b[0m_validate_integer\u001b[0m\u001b[1;33m(\u001b[0m\u001b[1;34m\"nrows\"\u001b[0m\u001b[1;33m,\u001b[0m \u001b[0mnrows\u001b[0m\u001b[1;33m)\u001b[0m\u001b[1;33m\u001b[0m\u001b[1;33m\u001b[0m\u001b[0m\n\u001b[1;32m-> 1196\u001b[1;33m         \u001b[0mret\u001b[0m \u001b[1;33m=\u001b[0m \u001b[0mself\u001b[0m\u001b[1;33m.\u001b[0m\u001b[0m_engine\u001b[0m\u001b[1;33m.\u001b[0m\u001b[0mread\u001b[0m\u001b[1;33m(\u001b[0m\u001b[0mnrows\u001b[0m\u001b[1;33m)\u001b[0m\u001b[1;33m\u001b[0m\u001b[1;33m\u001b[0m\u001b[0m\n\u001b[0m\u001b[0;32m   1197\u001b[0m \u001b[1;33m\u001b[0m\u001b[0m\n\u001b[0;32m   1198\u001b[0m         \u001b[1;31m# May alter columns / col_dict\u001b[0m\u001b[1;33m\u001b[0m\u001b[1;33m\u001b[0m\u001b[1;33m\u001b[0m\u001b[0m\n",
      "\u001b[1;32mc:\\users\\ludo\\documents\\school\\a2020\\seminar_software_comp\\sc-seminar-comment-quality-pharo\\venv\\lib\\site-packages\\pandas\\io\\parsers.py\u001b[0m in \u001b[0;36mread\u001b[1;34m(self, nrows)\u001b[0m\n\u001b[0;32m   2153\u001b[0m     \u001b[1;32mdef\u001b[0m \u001b[0mread\u001b[0m\u001b[1;33m(\u001b[0m\u001b[0mself\u001b[0m\u001b[1;33m,\u001b[0m \u001b[0mnrows\u001b[0m\u001b[1;33m=\u001b[0m\u001b[1;32mNone\u001b[0m\u001b[1;33m)\u001b[0m\u001b[1;33m:\u001b[0m\u001b[1;33m\u001b[0m\u001b[1;33m\u001b[0m\u001b[0m\n\u001b[0;32m   2154\u001b[0m         \u001b[1;32mtry\u001b[0m\u001b[1;33m:\u001b[0m\u001b[1;33m\u001b[0m\u001b[1;33m\u001b[0m\u001b[0m\n\u001b[1;32m-> 2155\u001b[1;33m             \u001b[0mdata\u001b[0m \u001b[1;33m=\u001b[0m \u001b[0mself\u001b[0m\u001b[1;33m.\u001b[0m\u001b[0m_reader\u001b[0m\u001b[1;33m.\u001b[0m\u001b[0mread\u001b[0m\u001b[1;33m(\u001b[0m\u001b[0mnrows\u001b[0m\u001b[1;33m)\u001b[0m\u001b[1;33m\u001b[0m\u001b[1;33m\u001b[0m\u001b[0m\n\u001b[0m\u001b[0;32m   2156\u001b[0m         \u001b[1;32mexcept\u001b[0m \u001b[0mStopIteration\u001b[0m\u001b[1;33m:\u001b[0m\u001b[1;33m\u001b[0m\u001b[1;33m\u001b[0m\u001b[0m\n\u001b[0;32m   2157\u001b[0m             \u001b[1;32mif\u001b[0m \u001b[0mself\u001b[0m\u001b[1;33m.\u001b[0m\u001b[0m_first_chunk\u001b[0m\u001b[1;33m:\u001b[0m\u001b[1;33m\u001b[0m\u001b[1;33m\u001b[0m\u001b[0m\n",
      "\u001b[1;32mpandas\\_libs\\parsers.pyx\u001b[0m in \u001b[0;36mpandas._libs.parsers.TextReader.read\u001b[1;34m()\u001b[0m\n",
      "\u001b[1;32mpandas\\_libs\\parsers.pyx\u001b[0m in \u001b[0;36mpandas._libs.parsers.TextReader._read_low_memory\u001b[1;34m()\u001b[0m\n",
      "\u001b[1;32mpandas\\_libs\\parsers.pyx\u001b[0m in \u001b[0;36mpandas._libs.parsers.TextReader._read_rows\u001b[1;34m()\u001b[0m\n",
      "\u001b[1;32mpandas\\_libs\\parsers.pyx\u001b[0m in \u001b[0;36mpandas._libs.parsers.TextReader._tokenize_rows\u001b[1;34m()\u001b[0m\n",
      "\u001b[1;32mpandas\\_libs\\parsers.pyx\u001b[0m in \u001b[0;36mpandas._libs.parsers.raise_parser_error\u001b[1;34m()\u001b[0m\n",
      "\u001b[1;31mParserError\u001b[0m: Error tokenizing data. C error: Expected 4 fields in line 567, saw 5\n"
     ]
    }
   ],
   "source": [
    "PHARO_DS = './data/pharo/7-withClassScope-ClassMethodsDef.csv'\n",
    "\n",
    "\"\"\"with open(PHARO_DS) as f:\n",
    "    for i in range(0, 50):\n",
    "        print(f.readline())\"\"\"\n",
    "\n",
    "df = pd.read_csv(PHARO_DS, header=None, delimiter=',')\n",
    "\n",
    "df.head(50)"
   ]
  },
  {
   "cell_type": "code",
   "execution_count": null,
   "metadata": {},
   "outputs": [],
   "source": []
  }
 ],
 "metadata": {
  "kernelspec": {
   "display_name": "Python 3",
   "language": "python",
   "name": "python3"
  },
  "language_info": {
   "codemirror_mode": {
    "name": "ipython",
    "version": 3
   },
   "file_extension": ".py",
   "mimetype": "text/x-python",
   "name": "python",
   "nbconvert_exporter": "python",
   "pygments_lexer": "ipython3",
   "version": "3.7.7"
  }
 },
 "nbformat": 4,
 "nbformat_minor": 4
}

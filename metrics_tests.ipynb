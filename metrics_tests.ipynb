{
 "cells": [
  {
   "cell_type": "code",
   "execution_count": 1,
   "metadata": {},
   "outputs": [],
   "source": [
    "import pandas as pd\n",
    "from tqdm.notebook import tqdm, trange"
   ]
  },
  {
   "cell_type": "code",
   "execution_count": 5,
   "metadata": {},
   "outputs": [],
   "source": [
    "DATASET_FILE = 'class_comments_pharo.csv'\n",
    "\n",
    "df = pd.read_csv(DATASET_FILE)"
   ]
  },
  {
   "cell_type": "code",
   "execution_count": 6,
   "metadata": {},
   "outputs": [
    {
     "data": {
      "text/html": [
       "<div>\n",
       "<style scoped>\n",
       "    .dataframe tbody tr th:only-of-type {\n",
       "        vertical-align: middle;\n",
       "    }\n",
       "\n",
       "    .dataframe tbody tr th {\n",
       "        vertical-align: top;\n",
       "    }\n",
       "\n",
       "    .dataframe thead th {\n",
       "        text-align: right;\n",
       "    }\n",
       "</style>\n",
       "<table border=\"1\" class=\"dataframe\">\n",
       "  <thead>\n",
       "    <tr style=\"text-align: right;\">\n",
       "      <th></th>\n",
       "      <th>AColorSelectorMorph</th>\n",
       "      <th>ColorComponentSelector showing an alpha gradient over a hatched background.</th>\n",
       "    </tr>\n",
       "  </thead>\n",
       "  <tbody>\n",
       "    <tr>\n",
       "      <th>0</th>\n",
       "      <td>ASTCache</td>\n",
       "      <td>I am a simple cache for AST nodes correspondin...</td>\n",
       "    </tr>\n",
       "    <tr>\n",
       "      <th>1</th>\n",
       "      <td>ASTCacheReset</td>\n",
       "      <td>Announcement signaled to tell that the default...</td>\n",
       "    </tr>\n",
       "    <tr>\n",
       "      <th>3</th>\n",
       "      <td>ASTEvaluationTest</td>\n",
       "      <td>I am testing AST evaluation</td>\n",
       "    </tr>\n",
       "    <tr>\n",
       "      <th>4</th>\n",
       "      <td>ASTPluginMeaningOfLife</td>\n",
       "      <td>A simple example for a AST transforming compil...</td>\n",
       "    </tr>\n",
       "    <tr>\n",
       "      <th>5</th>\n",
       "      <td>ASTTransformExamplePluginActive</td>\n",
       "      <td>This class changes the default compiler used t...</td>\n",
       "    </tr>\n",
       "    <tr>\n",
       "      <th>...</th>\n",
       "      <td>...</td>\n",
       "      <td>...</td>\n",
       "    </tr>\n",
       "    <tr>\n",
       "      <th>7854</th>\n",
       "      <td>ZnUrl</td>\n",
       "      <td>I am ZnUrl, an implementation of an interprete...</td>\n",
       "    </tr>\n",
       "    <tr>\n",
       "      <th>7855</th>\n",
       "      <td>ZnUrlOperation</td>\n",
       "      <td>I am ZnUrlOperation.\\rI am an abtract supercla...</td>\n",
       "    </tr>\n",
       "    <tr>\n",
       "      <th>7857</th>\n",
       "      <td>ZnUserAgentSession</td>\n",
       "      <td>I represent a session store for an HTTP client...</td>\n",
       "    </tr>\n",
       "    <tr>\n",
       "      <th>7859</th>\n",
       "      <td>ZnUtils</td>\n",
       "      <td>I am ZnUtils holding various utilities related...</td>\n",
       "    </tr>\n",
       "    <tr>\n",
       "      <th>7861</th>\n",
       "      <td>ZnValueDelegate</td>\n",
       "      <td>I am ZnValueDelegate.\\rI forward #handleReques...</td>\n",
       "    </tr>\n",
       "  </tbody>\n",
       "</table>\n",
       "<p>6321 rows × 2 columns</p>\n",
       "</div>"
      ],
      "text/plain": [
       "                  AColorSelectorMorph  \\\n",
       "0                            ASTCache   \n",
       "1                       ASTCacheReset   \n",
       "3                   ASTEvaluationTest   \n",
       "4              ASTPluginMeaningOfLife   \n",
       "5     ASTTransformExamplePluginActive   \n",
       "...                               ...   \n",
       "7854                            ZnUrl   \n",
       "7855                   ZnUrlOperation   \n",
       "7857               ZnUserAgentSession   \n",
       "7859                          ZnUtils   \n",
       "7861                  ZnValueDelegate   \n",
       "\n",
       "     ColorComponentSelector showing an alpha gradient over a hatched background.  \n",
       "0     I am a simple cache for AST nodes correspondin...                           \n",
       "1     Announcement signaled to tell that the default...                           \n",
       "3                          I am testing AST evaluation                            \n",
       "4     A simple example for a AST transforming compil...                           \n",
       "5     This class changes the default compiler used t...                           \n",
       "...                                                 ...                           \n",
       "7854  I am ZnUrl, an implementation of an interprete...                           \n",
       "7855  I am ZnUrlOperation.\\rI am an abtract supercla...                           \n",
       "7857  I represent a session store for an HTTP client...                           \n",
       "7859  I am ZnUtils holding various utilities related...                           \n",
       "7861  I am ZnValueDelegate.\\rI forward #handleReques...                           \n",
       "\n",
       "[6321 rows x 2 columns]"
      ]
     },
     "execution_count": 6,
     "metadata": {},
     "output_type": "execute_result"
    }
   ],
   "source": [
    "df.dropna()"
   ]
  },
  {
   "cell_type": "code",
   "execution_count": null,
   "metadata": {},
   "outputs": [],
   "source": []
  }
 ],
 "metadata": {
  "kernelspec": {
   "display_name": "Python 3",
   "language": "python",
   "name": "python3"
  },
  "language_info": {
   "codemirror_mode": {
    "name": "ipython",
    "version": 3
   },
   "file_extension": ".py",
   "mimetype": "text/x-python",
   "name": "python",
   "nbconvert_exporter": "python",
   "pygments_lexer": "ipython3",
   "version": "3.7.7"
  }
 },
 "nbformat": 4,
 "nbformat_minor": 4
}

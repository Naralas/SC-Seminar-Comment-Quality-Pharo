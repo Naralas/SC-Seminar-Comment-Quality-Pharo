{
 "cells": [
  {
   "cell_type": "markdown",
   "metadata": {},
   "source": [
    "# Seminar Software Composition Python Metrics tests"
   ]
  },
  {
   "cell_type": "code",
   "execution_count": 1,
   "metadata": {},
   "outputs": [
    {
     "name": "stderr",
     "output_type": "stream",
     "text": [
      "[nltk_data] Downloading package punkt to\n",
      "[nltk_data]     C:\\Users\\Ludo\\AppData\\Roaming\\nltk_data...\n",
      "[nltk_data]   Package punkt is already up-to-date!\n"
     ]
    },
    {
     "data": {
      "text/plain": [
       "True"
      ]
     },
     "execution_count": 1,
     "metadata": {},
     "output_type": "execute_result"
    }
   ],
   "source": [
    "import pandas as pd\n",
    "from tqdm.notebook import tqdm, trange\n",
    "import nltk\n",
    "nltk.download('punkt')"
   ]
  },
  {
   "cell_type": "code",
   "execution_count": 2,
   "metadata": {},
   "outputs": [
    {
     "data": {
      "text/html": [
       "<div>\n",
       "<style scoped>\n",
       "    .dataframe tbody tr th:only-of-type {\n",
       "        vertical-align: middle;\n",
       "    }\n",
       "\n",
       "    .dataframe tbody tr th {\n",
       "        vertical-align: top;\n",
       "    }\n",
       "\n",
       "    .dataframe thead th {\n",
       "        text-align: right;\n",
       "    }\n",
       "</style>\n",
       "<table border=\"1\" class=\"dataframe\">\n",
       "  <thead>\n",
       "    <tr style=\"text-align: right;\">\n",
       "      <th></th>\n",
       "      <th>class</th>\n",
       "      <th>comment</th>\n",
       "    </tr>\n",
       "  </thead>\n",
       "  <tbody>\n",
       "    <tr>\n",
       "      <th>0</th>\n",
       "      <td>AColorSelectorMorph</td>\n",
       "      <td>ColorComponentSelector showing an alpha gradie...</td>\n",
       "    </tr>\n",
       "    <tr>\n",
       "      <th>1</th>\n",
       "      <td>ASTCache</td>\n",
       "      <td>I am a simple cache for AST nodes correspondin...</td>\n",
       "    </tr>\n",
       "    <tr>\n",
       "      <th>2</th>\n",
       "      <td>ASTCacheReset</td>\n",
       "      <td>Announcement signaled to tell that the default...</td>\n",
       "    </tr>\n",
       "    <tr>\n",
       "      <th>3</th>\n",
       "      <td>ASTCacheResetTest</td>\n",
       "      <td>NaN</td>\n",
       "    </tr>\n",
       "    <tr>\n",
       "      <th>4</th>\n",
       "      <td>ASTEvaluationTest</td>\n",
       "      <td>I am testing AST evaluation</td>\n",
       "    </tr>\n",
       "    <tr>\n",
       "      <th>5</th>\n",
       "      <td>ASTPluginMeaningOfLife</td>\n",
       "      <td>A simple example for a AST transforming compil...</td>\n",
       "    </tr>\n",
       "    <tr>\n",
       "      <th>6</th>\n",
       "      <td>ASTTransformExamplePluginActive</td>\n",
       "      <td>This class changes the default compiler used t...</td>\n",
       "    </tr>\n",
       "    <tr>\n",
       "      <th>7</th>\n",
       "      <td>ASTTransformationPluginTest</td>\n",
       "      <td>NaN</td>\n",
       "    </tr>\n",
       "    <tr>\n",
       "      <th>8</th>\n",
       "      <td>ATraitedClass</td>\n",
       "      <td>Simple class to be traited in the tests</td>\n",
       "    </tr>\n",
       "    <tr>\n",
       "      <th>9</th>\n",
       "      <td>Abort</td>\n",
       "      <td>Notify to abort a task</td>\n",
       "    </tr>\n",
       "  </tbody>\n",
       "</table>\n",
       "</div>"
      ],
      "text/plain": [
       "                             class  \\\n",
       "0              AColorSelectorMorph   \n",
       "1                         ASTCache   \n",
       "2                    ASTCacheReset   \n",
       "3                ASTCacheResetTest   \n",
       "4                ASTEvaluationTest   \n",
       "5           ASTPluginMeaningOfLife   \n",
       "6  ASTTransformExamplePluginActive   \n",
       "7      ASTTransformationPluginTest   \n",
       "8                    ATraitedClass   \n",
       "9                            Abort   \n",
       "\n",
       "                                             comment  \n",
       "0  ColorComponentSelector showing an alpha gradie...  \n",
       "1  I am a simple cache for AST nodes correspondin...  \n",
       "2  Announcement signaled to tell that the default...  \n",
       "3                                                NaN  \n",
       "4                       I am testing AST evaluation   \n",
       "5  A simple example for a AST transforming compil...  \n",
       "6  This class changes the default compiler used t...  \n",
       "7                                                NaN  \n",
       "8            Simple class to be traited in the tests  \n",
       "9                             Notify to abort a task  "
      ]
     },
     "execution_count": 2,
     "metadata": {},
     "output_type": "execute_result"
    }
   ],
   "source": [
    "DATASET_FILE = 'class_comments_pharo.csv'\n",
    "\n",
    "dataset = pd.read_csv(DATASET_FILE, header=None, names=['class', 'comment'])\n",
    "\n",
    "dataset[:10]"
   ]
  },
  {
   "cell_type": "markdown",
   "metadata": {},
   "source": [
    "## Dataset preparation"
   ]
  },
  {
   "cell_type": "markdown",
   "metadata": {},
   "source": [
    "### Replace the NaN in the comments with empty string (IE empty comments)"
   ]
  },
  {
   "cell_type": "code",
   "execution_count": 3,
   "metadata": {},
   "outputs": [
    {
     "name": "stdout",
     "output_type": "stream",
     "text": [
      "Any null values left : False\n"
     ]
    }
   ],
   "source": [
    "df = dataset.copy()\n",
    "\n",
    "df[\"comment\"].fillna(\" \", inplace=True)\n",
    "\n",
    "print(f\"Any null values left : {df.isnull().values.any()}\")"
   ]
  },
  {
   "cell_type": "markdown",
   "metadata": {},
   "source": [
    "## Comment length"
   ]
  },
  {
   "cell_type": "markdown",
   "metadata": {},
   "source": [
    "### Preprocessing"
   ]
  },
  {
   "cell_type": "code",
   "execution_count": 4,
   "metadata": {},
   "outputs": [
    {
     "name": "stderr",
     "output_type": "stream",
     "text": [
      "[nltk_data] Downloading package stopwords to\n",
      "[nltk_data]     C:\\Users\\Ludo\\AppData\\Roaming\\nltk_data...\n",
      "[nltk_data]   Package stopwords is already up-to-date!\n"
     ]
    }
   ],
   "source": [
    "nltk.download('stopwords')\n",
    "\n",
    "stopwords = nltk.corpus.stopwords.words('english')"
   ]
  },
  {
   "cell_type": "code",
   "execution_count": 60,
   "metadata": {},
   "outputs": [],
   "source": [
    "def preprocess_comment(comment, stopwords):\n",
    "    # split the comment text into lowercase words\n",
    "    comment = nltk.word_tokenize(comment)        \n",
    "    comment = [word.lower() for word in comment if word.isalnum()]\n",
    "    \n",
    "\n",
    "    # filter the stopwords and the punctuation\n",
    "    try:\n",
    "        comment = [word for word in comment if word not in stopwords]\n",
    "    except:\n",
    "        print(e)\n",
    "    \n",
    "    return comment\n",
    "\n",
    "comments = df[\"comment\"]\n",
    "comments = [preprocess_comment(comment, stopwords=stopwords) for comment in comments]"
   ]
  },
  {
   "cell_type": "markdown",
   "metadata": {},
   "source": [
    "### Computations"
   ]
  },
  {
   "cell_type": "code",
   "execution_count": 61,
   "metadata": {},
   "outputs": [
    {
     "name": "stdout",
     "output_type": "stream",
     "text": [
      "Total number of comments : 7863\n",
      "\n",
      "Number of empty comments : 1541\n",
      "Ratio of empty comments : 19.6 %\n",
      "\n",
      "Number of comments with too few words (but not empty) : 196\n",
      "Ratio of comments too short : 2.5 %\n"
     ]
    }
   ],
   "source": [
    "min_comment_len = 3\n",
    "n_lower_length = 0\n",
    "\n",
    "n_empty_comments = sum(map(lambda comment: 1 if len(comment) == 0 else 0, comments))\n",
    "n_lower_length = sum(map(lambda comment: 1 if len(comment) < min_comment_len and len(comment) > 0 else 0, comments))\n",
    "\n",
    "print(f\"Total number of comments : {len(comments)}\\n\")\n",
    "print(f\"Number of empty comments : {n_empty_comments}\")\n",
    "print(f\"Ratio of empty comments : {(n_empty_comments / len(comments))*100:.1f} %\\n\")\n",
    "\n",
    "print(f\"Number of comments with too few words (but not empty) : {n_lower_length}\")\n",
    "print(f\"Ratio of comments too short : {(n_lower_length / len(comments))*100:.1f} %\")"
   ]
  },
  {
   "cell_type": "markdown",
   "metadata": {},
   "source": [
    "### Plots"
   ]
  },
  {
   "cell_type": "code",
   "execution_count": 74,
   "metadata": {},
   "outputs": [],
   "source": [
    "import matplotlib.pyplot as plt\n",
    "from statistics import mean\n",
    "\n",
    "def plot_histogram(values, bins, title, xlabel, ylabel, yscale_val='linear', plot_average=False):\n",
    "    plt.hist(values, bins=bins)\n",
    "    plt.yscale(value=yscale_val)\n",
    "    plt.title(title)\n",
    "    plt.xlabel(xlabel)\n",
    "    plt.ylabel(ylabel)\n",
    "    \n",
    "    if(plot_average):\n",
    "        mean_val = mean(values)\n",
    "        plt.axvline(mean_val, color='k', linestyle='dashed', linewidth=1)\n",
    "        plt.min_ylim, max_ylim = plt.ylim()\n",
    "        plt.text(mean_val*1.1, max_ylim*0.7, f\"Avg : {mean_val:.2f}\")\n",
    "    plt.show()"
   ]
  },
  {
   "cell_type": "code",
   "execution_count": 75,
   "metadata": {},
   "outputs": [
    {
     "data": {
      "image/png": "[encoded data removed]",
      "text/plain": [
       "<Figure size 432x288 with 1 Axes>"
      ]
     },
     "metadata": {
      "needs_background": "light"
     },
     "output_type": "display_data"
    }
   ],
   "source": [
    "comments_len = list(map(lambda c: len(c), comments))\n",
    "plot_histogram(comments_len, bins=20, yscale_val='log', title='Histogram of comments length',\n",
    "                  ylabel='Number of comments (logarithmic)', xlabel='Number of words in the comment', plot_average=True)"
   ]
  },
  {
   "cell_type": "markdown",
   "metadata": {},
   "source": [
    "## Analyzing language properties of comments"
   ]
  },
  {
   "cell_type": "code",
   "execution_count": 76,
   "metadata": {},
   "outputs": [],
   "source": [
    "comments = df[\"comment\"]"
   ]
  },
  {
   "cell_type": "code",
   "execution_count": 77,
   "metadata": {},
   "outputs": [],
   "source": [
    "%%capture\n",
    "from readcalc import readcalc\n",
    "\n",
    "def get_gunning_fog(comment):\n",
    "    calc = readcalc.ReadCalc(comment)\n",
    "    return calc.get_gunning_fog_index()\n",
    "\n",
    "def get_flesch_reading(comment):\n",
    "    calc = readcalc.ReadCalc(comment)\n",
    "    return calc.get_flesch_reading_ease()\n",
    "\n",
    "def get_smog_index(comment):\n",
    "    calc = readcalc.ReadCalc(comment)\n",
    "    return calc.get_smog_index()\n",
    "\n",
    "\n",
    "indices_functions = {\n",
    "    'flesch_reading_ease':get_flesch_reading,\n",
    "    'gunning_fog':get_gunning_fog,\n",
    "    'smog_index':get_smog_index,\n",
    "}\n",
    "\n",
    "# init the dictionnary that will contain each index metric as key and the values for each comment as the values\n",
    "indices_values = {}\n",
    "for index_label in indices_functions.keys():\n",
    "    indices_values[index_label] = []\n",
    "    \n",
    "for comment in comments:\n",
    "    calc = readcalc.ReadCalc(comment)\n",
    "    for index_label, index_func in indices_functions.items():\n",
    "        val = index_func(comment)\n",
    "        indices_values[index_label].append(val)"
   ]
  },
  {
   "cell_type": "code",
   "execution_count": 78,
   "metadata": {},
   "outputs": [
    {
     "data": {
      "image/png": "[encoded data removed]",
      "text/plain": [
       "<Figure size 432x288 with 1 Axes>"
      ]
     },
     "metadata": {
      "needs_background": "light"
     },
     "output_type": "display_data"
    },
    {
     "data": {
      "image/png": "[encoded data removed]",
      "text/plain": [
       "<Figure size 432x288 with 1 Axes>"
      ]
     },
     "metadata": {
      "needs_background": "light"
     },
     "output_type": "display_data"
    },
    {
     "data": {
      "image/png": "[encoded data removed]",
      "text/plain": [
       "<Figure size 432x288 with 1 Axes>"
      ]
     },
     "metadata": {
      "needs_background": "light"
     },
     "output_type": "display_data"
    }
   ],
   "source": [
    "for label, values in indices_values.items():\n",
    "    plot_histogram(values, bins=20, title=f\"Readability of comments using {label}\", \n",
    "                    yscale_val='log', \n",
    "                    ylabel='Number of comments (logarithmic)',\n",
    "                    xlabel='Readability score',\n",
    "                    plot_average=True)    "
   ]
  },
  {
   "cell_type": "markdown",
   "metadata": {},
   "source": [
    "### Indices explained\n",
    "\n",
    "#### Flesch reading ease\n",
    "\n",
    "Higher is better.\n",
    "\n",
    "[Source](https://yoast.com/flesch-reading-ease-score)\n",
    "- 90-100\tvery easy to read, easily understood by an average 11-year-old student-\n",
    "- 80-90\teasy to read\n",
    "- 70-80\tfairly easy to read\n",
    "- 60-70\teasily understood by 13- to 15-year-old students\n",
    "- 50-60\tfairly difficult to read\n",
    "- 30-50\tdifficult to read, best understood by college graduates\n",
    "- 0-30\tvery difficult to read, best understood by university graduates\n",
    "\n",
    "#### Gunning Fog\n",
    "\n",
    "Lower is better.\n",
    "\n",
    "[Source](https://en.wikipedia.org/wiki/Gunning_fog_index)\n",
    "- 17\tCollege graduate\n",
    "- 16\tCollege senior\n",
    "- 15\tCollege junior\n",
    "- 14\tCollege sophomore\n",
    "- 13\tCollege freshman\n",
    "- 12\tHigh school senior\n",
    "- 11\tHigh school junior\n",
    "- 10\tHigh school sophomore\n",
    "- 9\tHigh school freshman\n",
    "- 8\tEighth grade\n",
    "- 7\tSeventh grade\n",
    "- 6\tSixth grade\n",
    "\n",
    "#### Smog index\n",
    "\n",
    "[https://en.wikipedia.org/wiki/SMOG]\n",
    "$grade = 1.043 \\sqrt{number \\; of \\; polysyllables* \\frac{30}{number\\; of \\;sentences}} + 3.1291$\n",
    "\n",
    "Results can be interpreted using this [table](https://www.textcompare.org/readability/smog-index#Grade-Conversion)"
   ]
  },
  {
   "cell_type": "markdown",
   "metadata": {},
   "source": [
    "#### Split the class into subwords WIP"
   ]
  },
  {
   "cell_type": "code",
   "execution_count": 79,
   "metadata": {},
   "outputs": [
    {
     "name": "stdout",
     "output_type": "stream",
     "text": [
      "0                AColorSelectorMorph\n",
      "1                           ASTCache\n",
      "2                      ASTCacheReset\n",
      "3                  ASTCacheResetTest\n",
      "4                  ASTEvaluationTest\n",
      "5             ASTPluginMeaningOfLife\n",
      "6    ASTTransformExamplePluginActive\n",
      "7        ASTTransformationPluginTest\n",
      "8                      ATraitedClass\n",
      "9                              Abort\n",
      "Name: class, dtype: object\n"
     ]
    }
   ],
   "source": [
    "print(df[\"class\"][:10])"
   ]
  },
  {
   "cell_type": "code",
   "execution_count": null,
   "metadata": {},
   "outputs": [],
   "source": []
  }
 ],
 "metadata": {
  "kernelspec": {
   "display_name": "Python 3",
   "language": "python",
   "name": "python3"
  },
  "language_info": {
   "codemirror_mode": {
    "name": "ipython",
    "version": 3
   },
   "file_extension": ".py",
   "mimetype": "text/x-python",
   "name": "python",
   "nbconvert_exporter": "python",
   "pygments_lexer": "ipython3",
   "version": "3.7.7"
  }
 },
 "nbformat": 4,
 "nbformat_minor": 4
}
